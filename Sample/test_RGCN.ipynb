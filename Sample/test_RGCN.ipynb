{
 "cells": [
  {
   "cell_type": "code",
   "execution_count": 1,
   "id": "initial_id",
   "metadata": {
    "collapsed": true,
    "ExecuteTime": {
     "end_time": "2024-01-18T13:01:22.729428100Z",
     "start_time": "2024-01-18T13:01:20.239231500Z"
    }
   },
   "outputs": [],
   "source": [
    "from load import *\n",
    "import load\n",
    "import networkx as nx\n",
    "import matplotlib.pyplot as plt\n",
    "import pandas as pd\n",
    "import os\n",
    "import torch"
   ]
  },
  {
   "cell_type": "code",
   "execution_count": 2,
   "outputs": [
    {
     "name": "stdout",
     "output_type": "stream",
     "text": [
      "Graph(num_nodes={'lncrna': 1500, 'mirna': 168, 'mrna': 2519},\n",
      "      num_edges={('lncrna', 'lnc_lnc', 'lncrna'): 12654, ('lncrna', 'lnc_mi', 'mirna'): 186, ('lncrna', 'm_lnc', 'mrna'): 23276, ('mirna', 'mi_lnc', 'lncrna'): 186, ('mirna', 'mi_m', 'mrna'): 17320, ('mirna', 'mi_mi', 'mirna'): 132, ('mrna', 'lnc_m', 'lncrna'): 23276, ('mrna', 'm_m', 'mrna'): 60230, ('mrna', 'm_mi', 'mirna'): 17320},\n",
      "      metagraph=[('lncrna', 'lncrna', 'lnc_lnc'), ('lncrna', 'mirna', 'lnc_mi'), ('lncrna', 'mrna', 'm_lnc'), ('mirna', 'lncrna', 'mi_lnc'), ('mirna', 'mrna', 'mi_m'), ('mirna', 'mirna', 'mi_mi'), ('mrna', 'lncrna', 'lnc_m'), ('mrna', 'mrna', 'm_m'), ('mrna', 'mirna', 'm_mi')])\n"
     ]
    }
   ],
   "source": [
    "g=load.load_random_hetero_graph('../data/PAAD_network', Specified_quantity={'lncrna': 1500, 'mirna': 168, 'mrna': 2519})\n",
    "adjacency_matrix=torch.from_numpy(np.array(nx.adjacency_matrix(dgl.to_homogeneous(g).to_networkx().to_undirected()).todense(),dtype=float))\n",
    "gragh = nx.Graph()\n",
    "for i in range(len(adjacency_matrix)):\n",
    "    gragh.add_node(i)\n",
    "    gragh.nodes[i][\"data\"] = i\n",
    "\n",
    "for i in range(len(adjacency_matrix)):\n",
    "    for j in range(len(adjacency_matrix)):\n",
    "        if adjacency_matrix[i,j]:\n",
    "            gragh.add_edge(i,j)"
   ],
   "metadata": {
    "collapsed": false,
    "ExecuteTime": {
     "end_time": "2024-01-18T13:02:30.959297600Z",
     "start_time": "2024-01-18T13:01:22.729428100Z"
    }
   },
   "id": "5434d7aac9536bfc"
  },
  {
   "cell_type": "code",
   "execution_count": 3,
   "outputs": [],
   "source": [
    "rna_num = {}\n",
    "num_rna = {}\n",
    "curnode = 0\n",
    "for name in g.ntypes:\n",
    "    tmp={}\n",
    "    for i in range(g.number_of_nodes(name)):\n",
    "        tmp[i]=curnode\n",
    "        num_rna[curnode]=(name,i)\n",
    "        curnode+=1\n",
    "    rna_num[name]=tmp"
   ],
   "metadata": {
    "collapsed": false,
    "ExecuteTime": {
     "end_time": "2024-01-18T13:02:31.019121300Z",
     "start_time": "2024-01-18T13:02:30.959297600Z"
    }
   },
   "id": "6b1394077162e67d"
  },
  {
   "cell_type": "code",
   "execution_count": 4,
   "outputs": [],
   "source": [
    "#去掉真实网络中去点度为0的孤立节点\n",
    "new_nodes = [_ for _, v in nx.degree(gragh) if v != 0]\n",
    "# plt.subplot(211)\n",
    "graph_new = gragh.subgraph(new_nodes)\n",
    "# nx.draw_networkx(graph_new, with_labels=True,node_size=50,font_size=8)\n",
    "# plt.show()"
   ],
   "metadata": {
    "collapsed": false,
    "ExecuteTime": {
     "end_time": "2024-01-18T13:02:31.033408300Z",
     "start_time": "2024-01-18T13:02:30.999162700Z"
    }
   },
   "id": "124941bfbdc02051"
  },
  {
   "cell_type": "code",
   "execution_count": 5,
   "outputs": [
    {
     "name": "stdout",
     "output_type": "stream",
     "text": [
      "[3164, 2, 2, 2, 3, 2, 3, 2, 2, 2, 2, 2, 2, 2, 3, 2, 2, 2, 2, 2, 2, 4, 2, 2, 2]\n"
     ]
    }
   ],
   "source": [
    "#对联通子图进行判断\n",
    "# N = 50\n",
    "N = 400\n",
    "# N = 400\n",
    "# idex=12\n",
    "CS = []\n",
    "CS_len = []\n",
    "init_graph = []\n",
    "for c in nx.connected_components(graph_new):\n",
    "    # 得到不连通的子集\n",
    "    nodeSet = list(graph_new.subgraph(c).nodes())\n",
    "    CS.append(c)\n",
    "    CS_len.append(len(nodeSet))\n",
    "    if len(nodeSet) <N:\n",
    "        init_graph.append(nodeSet)\n",
    "print(CS_len)\n",
    "graph_new = graph_new.subgraph(CS[0])"
   ],
   "metadata": {
    "collapsed": false,
    "ExecuteTime": {
     "end_time": "2024-01-18T13:02:31.160685700Z",
     "start_time": "2024-01-18T13:02:31.033408300Z"
    }
   },
   "id": "aff4594f71448d28"
  },
  {
   "cell_type": "code",
   "execution_count": 6,
   "outputs": [],
   "source": [
    "#保存被删除的节点\n",
    "# delete_ndoes = []\n",
    "# for nodes in CS[1:]:\n",
    "#     for node in nodes:\n",
    "#         delete_ndoes.append(node)\n",
    "# print(delete_ndoes)\n",
    "# torch.save(delete_ndoes,\"delete_nodes.pt\")"
   ],
   "metadata": {
    "collapsed": false,
    "ExecuteTime": {
     "end_time": "2024-01-18T13:02:31.198986100Z",
     "start_time": "2024-01-18T13:02:31.160685700Z"
    }
   },
   "id": "1ec79eedd6430447"
  },
  {
   "cell_type": "code",
   "execution_count": 7,
   "outputs": [],
   "source": [
    "# print(len(delete_ndoes))"
   ],
   "metadata": {
    "collapsed": false,
    "ExecuteTime": {
     "end_time": "2024-01-18T13:02:31.239105500Z",
     "start_time": "2024-01-18T13:02:31.198986100Z"
    }
   },
   "id": "ac5beff6683d4579"
  },
  {
   "cell_type": "code",
   "execution_count": 8,
   "outputs": [
    {
     "name": "stdout",
     "output_type": "stream",
     "text": [
      "643 168 2353\n"
     ]
    }
   ],
   "source": [
    "degree0_nodes = list(graph_new.nodes())\n",
    "lncnum = 0\n",
    "minum = 0\n",
    "mnum = 0\n",
    "for n in degree0_nodes:\n",
    "    if num_rna[n][0] == \"lncrna\":\n",
    "        lncnum+=1\n",
    "    elif num_rna[n][0] == \"mirna\":\n",
    "        minum+=1\n",
    "    elif num_rna[n][0] == \"mrna\":\n",
    "        mnum+=1\n",
    "print(lncnum,minum,mnum)"
   ],
   "metadata": {
    "collapsed": false,
    "ExecuteTime": {
     "end_time": "2024-01-18T13:02:31.296466800Z",
     "start_time": "2024-01-18T13:02:31.239105500Z"
    }
   },
   "id": "b9a8ab57cbae1f2c"
  },
  {
   "cell_type": "code",
   "execution_count": 9,
   "outputs": [
    {
     "name": "stdout",
     "output_type": "stream",
     "text": [
      "3164\n"
     ]
    }
   ],
   "source": [
    "print(len(graph_new))\n",
    "nodesss = list(graph_new.nodes())\n",
    "graphid_2_degree0 = torch.zeros((len(nodesss),1))\n",
    "for i in range(len(nodesss)):\n",
    "    graphid_2_degree0[i,0] = torch.tensor(nodesss[i])\n",
    "torch.save(graphid_2_degree0,\"graphid_2_degree0_\"+str(N)+\"_\"+str(11)+\"_add_ep\"+\".pt\")"
   ],
   "metadata": {
    "collapsed": false,
    "ExecuteTime": {
     "end_time": "2024-01-18T13:02:31.348961800Z",
     "start_time": "2024-01-18T13:02:31.268408400Z"
    }
   },
   "id": "4f5cd36fa83499f1"
  },
  {
   "cell_type": "code",
   "execution_count": 10,
   "outputs": [],
   "source": [
    "aaa = torch.load(\"graphid_2_degree0_\"+str(N)+\"_\"+str(11)+\"_add_ep\"+\".pt\")\n",
    "# print(aaa[0,0])"
   ],
   "metadata": {
    "collapsed": false,
    "ExecuteTime": {
     "end_time": "2024-01-18T13:02:31.368960500Z",
     "start_time": "2024-01-18T13:02:31.333258600Z"
    }
   },
   "id": "149ac5e1875d5c9d"
  },
  {
   "cell_type": "code",
   "execution_count": 11,
   "outputs": [
    {
     "name": "stdout",
     "output_type": "stream",
     "text": [
      "3164\n",
      "3164\n"
     ]
    }
   ],
   "source": [
    "print(len(graph_new.nodes()))\n",
    "#获取新图的节点\n",
    "new_sort_nodes = list(graph_new.nodes())\n",
    "node_dict = {}\n",
    "node_dict_reverse = {}\n",
    "#记录新节点在邻接矩阵中的index下标\n",
    "for i,n in enumerate(new_sort_nodes):\n",
    "    node_dict[n] = i\n",
    "    node_dict_reverse[i] = n\n",
    "new_A=np.array(nx.adjacency_matrix(graph_new).todense())\n",
    "#改变邻接矩阵\n",
    "print(len(new_A))"
   ],
   "metadata": {
    "collapsed": false,
    "ExecuteTime": {
     "end_time": "2024-01-18T13:02:31.817215Z",
     "start_time": "2024-01-18T13:02:31.368960500Z"
    }
   },
   "id": "32930f5de09d7311"
  },
  {
   "cell_type": "code",
   "execution_count": 12,
   "outputs": [],
   "source": [
    "# # 构建新的子图\n",
    "# lnc_lnc = []\n",
    "# lnc_mi = []\n",
    "# lnc_m = []\n",
    "# mi_lnc = []\n",
    "# mi_mi = []\n",
    "# mi_m = []\n",
    "# m_lnc = []\n",
    "# m_mi = []\n",
    "# m_m = []\n",
    "# sub1 = new_sort_nodes\n",
    "# rna_num = [0,0,0]\n",
    "# node_type_id = {}\n",
    "# lnc_num = 0\n",
    "# mi_num = 0\n",
    "# m_num = 0\n",
    "# \n",
    "# for f,node in enumerate(sub1):\n",
    "#     type = num_rna[node][0]\n",
    "# \n",
    "#     if type == \"lncrna\":\n",
    "#         node_type_id[node] = (type,lnc_num)\n",
    "#         lnc_num += 1\n",
    "#     elif type == \"mirna\":\n",
    "#         node_type_id[node] = (type,mi_num)\n",
    "#         mi_num += 1\n",
    "#     elif type == \"mrna\":\n",
    "#         node_type_id[node] = (type,m_num)\n",
    "#         m_num += 1\n",
    "# \n",
    "# print(lnc_num,mi_num,m_num,end=\" \")\n",
    "# for index1,node in enumerate(sub1):\n",
    "#     if num_rna[node][0] == \"lncrna\":\n",
    "#         #判断邻居属性\n",
    "#         for index,node1 in enumerate(sub1):\n",
    "#             #子图内的邻居节点node,i\n",
    "#             if new_A[node_dict[node],node_dict[node1]]==1:\n",
    "#                 if num_rna[node1][0] == \"lncrna\":\n",
    "#                     lnc_lnc.append([node_type_id[node][1],node_type_id[node1][1]])\n",
    "#                 elif num_rna[node1][0] == \"mirna\":\n",
    "#                     lnc_mi.append([node_type_id[node][1],node_type_id[node1][1]])\n",
    "#                 elif num_rna[node1][0] == \"mrna\":\n",
    "#                     lnc_m.append([node_type_id[node][1],node_type_id[node1][1]])\n",
    "#     elif num_rna[node][0] == \"mirna\":\n",
    "#         for index,node1 in enumerate(sub1):\n",
    "#             #子图内的邻居节点node,i\n",
    "#             if new_A[node_dict[node],node_dict[node1]]==1:\n",
    "#                 if num_rna[node1][0] == \"lncrna\":\n",
    "#                     mi_lnc.append([node_type_id[node][1],node_type_id[node1][1]])\n",
    "#                 elif num_rna[node1][0] == \"mirna\":\n",
    "#                     mi_mi.append([node_type_id[node][1],node_type_id[node1][1]])\n",
    "#                 elif num_rna[node1][0] == \"mrna\":\n",
    "#                     mi_m.append([node_type_id[node][1],node_type_id[node1][1]])\n",
    "#     elif num_rna[node][0] == \"mrna\":\n",
    "#         for index,node1 in enumerate(sub1):\n",
    "#             #子图内的邻居节点node,i\n",
    "#             if new_A[node_dict[node],node_dict[node1]]==1:\n",
    "#                 if num_rna[node1][0] == \"lncrna\":\n",
    "#                     m_lnc.append([node_type_id[node][1],node_type_id[node1][1]])\n",
    "#                 elif num_rna[node1][0] == \"mirna\":\n",
    "#                     m_mi.append([node_type_id[node][1],node_type_id[node1][1]])\n",
    "#                 elif num_rna[node1][0] == \"mrna\":\n",
    "#                     m_m.append([node_type_id[node][1],node_type_id[node1][1]])\n",
    "# \n",
    "# data_lnc_lnc = pd.DataFrame(lnc_lnc).to_csv(\"../data/Degree0_graph/lnc_lnc.csv\",index=False)\n",
    "# data_lnc_mi = pd.DataFrame(lnc_mi).to_csv(\"../data/Degree0_graph/lnc_mi.csv\",index=False)\n",
    "# data_lnc_m = pd.DataFrame(lnc_m).to_csv(\"../data/Degree0_graph/lnc_m.csv\",index=False)\n",
    "# data_mi_lnc = pd.DataFrame(mi_lnc).to_csv(\"../data/Degree0_graph/mi_lnc.csv\",index=False)\n",
    "# data_mi_mi = pd.DataFrame(mi_mi).to_csv(\"../data/Degree0_graph/mi_mi.csv\",index=False)\n",
    "# data_mi_m = pd.DataFrame(mi_m).to_csv(\"../data/Degree0_graph/mi_m.csv\",index=False)\n",
    "# data_m_lnc = pd.DataFrame(m_lnc).to_csv(\"../data/Degree0_graph/m_lnc.csv\",index=False)\n",
    "# data_m_mi = pd.DataFrame(m_mi).to_csv(\"../data/Degree0_graph/m_mi.csv\",index=False)\n",
    "# data_m_m = pd.DataFrame(m_m).to_csv(\"../data/Degree0_graph/m_m.csv\",index=False)\n",
    "\n"
   ],
   "metadata": {
    "collapsed": false,
    "ExecuteTime": {
     "end_time": "2024-01-18T13:02:31.865792800Z",
     "start_time": "2024-01-18T13:02:31.810208300Z"
    }
   },
   "id": "f7b0c2b07ecb17b5"
  },
  {
   "cell_type": "code",
   "execution_count": 13,
   "outputs": [],
   "source": [
    "#读取各个子图，测试RGCN\n",
    "subgraphs = pd.read_csv(\"../data/SubGraph/N400_123.csv\")\n",
    "\n"
   ],
   "metadata": {
    "collapsed": false,
    "ExecuteTime": {
     "end_time": "2024-01-18T13:02:31.912655500Z",
     "start_time": "2024-01-18T13:02:31.867799100Z"
    }
   },
   "id": "39f079cd9ce2496d"
  },
  {
   "cell_type": "code",
   "execution_count": 14,
   "outputs": [
    {
     "data": {
      "text/plain": "      0     1     2     3     4     5     6     7     8     9  ...   390  \\\n0  2048  2049  2052  2053  2054  2055  2056  2058  2059  2060  ...  2033   \n1     4     5  2055    20    22    24    30  2079    31    32  ...  3982   \n2  2053     6     7  2055  2059  2060  2062    19  2067  2069  ...  2029   \n3  2052  2053  2054  2055  2056  2058  2059  2060  2062  2063  ...  2032   \n4  4097  4105  2058  4109  4111  2066  2069  2070  4117  2072  ...  3934   \n\n    391   392   393   394   395   396   397   398   399  \n0  2034  2036  4087  2040  2041  2042  2043  2045  2047  \n1  3991  4027  1980  1990  4054  2022  4073  4083  4085  \n2  2030  2031  2033  2034  2035  2036  2040  2042  2043  \n3  2033  2034  2039  2040  2041  2042  2043  2045  2047  \n4  3942  1897  3945  3947  1902  1907  3955  1915  4094  \n\n[5 rows x 400 columns]",
      "text/html": "<div>\n<style scoped>\n    .dataframe tbody tr th:only-of-type {\n        vertical-align: middle;\n    }\n\n    .dataframe tbody tr th {\n        vertical-align: top;\n    }\n\n    .dataframe thead th {\n        text-align: right;\n    }\n</style>\n<table border=\"1\" class=\"dataframe\">\n  <thead>\n    <tr style=\"text-align: right;\">\n      <th></th>\n      <th>0</th>\n      <th>1</th>\n      <th>2</th>\n      <th>3</th>\n      <th>4</th>\n      <th>5</th>\n      <th>6</th>\n      <th>7</th>\n      <th>8</th>\n      <th>9</th>\n      <th>...</th>\n      <th>390</th>\n      <th>391</th>\n      <th>392</th>\n      <th>393</th>\n      <th>394</th>\n      <th>395</th>\n      <th>396</th>\n      <th>397</th>\n      <th>398</th>\n      <th>399</th>\n    </tr>\n  </thead>\n  <tbody>\n    <tr>\n      <th>0</th>\n      <td>2048</td>\n      <td>2049</td>\n      <td>2052</td>\n      <td>2053</td>\n      <td>2054</td>\n      <td>2055</td>\n      <td>2056</td>\n      <td>2058</td>\n      <td>2059</td>\n      <td>2060</td>\n      <td>...</td>\n      <td>2033</td>\n      <td>2034</td>\n      <td>2036</td>\n      <td>4087</td>\n      <td>2040</td>\n      <td>2041</td>\n      <td>2042</td>\n      <td>2043</td>\n      <td>2045</td>\n      <td>2047</td>\n    </tr>\n    <tr>\n      <th>1</th>\n      <td>4</td>\n      <td>5</td>\n      <td>2055</td>\n      <td>20</td>\n      <td>22</td>\n      <td>24</td>\n      <td>30</td>\n      <td>2079</td>\n      <td>31</td>\n      <td>32</td>\n      <td>...</td>\n      <td>3982</td>\n      <td>3991</td>\n      <td>4027</td>\n      <td>1980</td>\n      <td>1990</td>\n      <td>4054</td>\n      <td>2022</td>\n      <td>4073</td>\n      <td>4083</td>\n      <td>4085</td>\n    </tr>\n    <tr>\n      <th>2</th>\n      <td>2053</td>\n      <td>6</td>\n      <td>7</td>\n      <td>2055</td>\n      <td>2059</td>\n      <td>2060</td>\n      <td>2062</td>\n      <td>19</td>\n      <td>2067</td>\n      <td>2069</td>\n      <td>...</td>\n      <td>2029</td>\n      <td>2030</td>\n      <td>2031</td>\n      <td>2033</td>\n      <td>2034</td>\n      <td>2035</td>\n      <td>2036</td>\n      <td>2040</td>\n      <td>2042</td>\n      <td>2043</td>\n    </tr>\n    <tr>\n      <th>3</th>\n      <td>2052</td>\n      <td>2053</td>\n      <td>2054</td>\n      <td>2055</td>\n      <td>2056</td>\n      <td>2058</td>\n      <td>2059</td>\n      <td>2060</td>\n      <td>2062</td>\n      <td>2063</td>\n      <td>...</td>\n      <td>2032</td>\n      <td>2033</td>\n      <td>2034</td>\n      <td>2039</td>\n      <td>2040</td>\n      <td>2041</td>\n      <td>2042</td>\n      <td>2043</td>\n      <td>2045</td>\n      <td>2047</td>\n    </tr>\n    <tr>\n      <th>4</th>\n      <td>4097</td>\n      <td>4105</td>\n      <td>2058</td>\n      <td>4109</td>\n      <td>4111</td>\n      <td>2066</td>\n      <td>2069</td>\n      <td>2070</td>\n      <td>4117</td>\n      <td>2072</td>\n      <td>...</td>\n      <td>3934</td>\n      <td>3942</td>\n      <td>1897</td>\n      <td>3945</td>\n      <td>3947</td>\n      <td>1902</td>\n      <td>1907</td>\n      <td>3955</td>\n      <td>1915</td>\n      <td>4094</td>\n    </tr>\n  </tbody>\n</table>\n<p>5 rows × 400 columns</p>\n</div>"
     },
     "execution_count": 14,
     "metadata": {},
     "output_type": "execute_result"
    }
   ],
   "source": [
    "subgraphs.head()"
   ],
   "metadata": {
    "collapsed": false,
    "ExecuteTime": {
     "end_time": "2024-01-18T13:02:31.974080Z",
     "start_time": "2024-01-18T13:02:31.912655500Z"
    }
   },
   "id": "d3d4e1a852241d20"
  },
  {
   "cell_type": "code",
   "execution_count": 15,
   "outputs": [],
   "source": [
    "# print(subgraphs.iloc[160])"
   ],
   "metadata": {
    "collapsed": false,
    "ExecuteTime": {
     "end_time": "2024-01-18T13:02:32.023002900Z",
     "start_time": "2024-01-18T13:02:31.949253300Z"
    }
   },
   "id": "ec121d63c9c37b8d"
  },
  {
   "cell_type": "code",
   "execution_count": 16,
   "outputs": [
    {
     "name": "stdout",
     "output_type": "stream",
     "text": [
      "0      2049\n",
      "1      2051\n",
      "2      2053\n",
      "3      2055\n",
      "4         8\n",
      "       ... \n",
      "395    2039\n",
      "396    2040\n",
      "397    2041\n",
      "398    2042\n",
      "399    2043\n",
      "Name: 122, Length: 400, dtype: int64\n"
     ]
    }
   ],
   "source": [
    "all_subgraphs = subgraphs.iloc[0:123,:]\n",
    "print(all_subgraphs.iloc[122,:])"
   ],
   "metadata": {
    "collapsed": false,
    "ExecuteTime": {
     "end_time": "2024-01-18T13:02:32.050247600Z",
     "start_time": "2024-01-18T13:02:31.985120900Z"
    }
   },
   "id": "8f3a36100a206387"
  },
  {
   "cell_type": "code",
   "execution_count": 17,
   "outputs": [
    {
     "name": "stdout",
     "output_type": "stream",
     "text": [
      "123\n"
     ]
    }
   ],
   "source": [
    "print(len(all_subgraphs))"
   ],
   "metadata": {
    "collapsed": false,
    "ExecuteTime": {
     "end_time": "2024-01-18T13:02:32.078965400Z",
     "start_time": "2024-01-18T13:02:32.019025100Z"
    }
   },
   "id": "289b8f87b6f93dd0"
  },
  {
   "cell_type": "code",
   "execution_count": 18,
   "outputs": [
    {
     "name": "stdout",
     "output_type": "stream",
     "text": [
      "[2048, 2049, 2052, 2053, 2054, 2055, 2056, 2058, 2059, 2060, 2062, 2063, 2064, 2065, 2066, 2039, 2067, 2068, 2069, 2070, 24, 2071, 2072, 2073, 2076, 2077, 2078, 2079, 2081, 2082, 2083, 2084, 2085, 2086, 4136, 2088, 2090, 2092, 2094, 2095, 2097, 2098, 2099, 2100, 2102, 2104, 2105, 2106, 2107, 2108, 2109, 4158, 2110, 2113, 2114, 2117, 2119, 2122, 2123, 2124, 2129, 2130, 83, 2132, 2133, 2135, 2139, 2140, 2142, 2143, 2148, 2149, 2151, 2152, 2153, 2157, 2158, 2159, 2161, 2162, 2165, 2167, 2168, 2171, 2172, 2174, 2175, 2176, 2177, 2181, 2183, 2237, 272, 332, 402, 422, 429, 437, 452, 458, 459, 490, 493, 616, 625, 638, 2756, 722, 757, 822, 2961, 2992, 953, 3068, 3069, 3070, 3071, 3073, 3149, 1183, 3248, 3328, 1337, 3423, 3459, 1442, 1452, 1483, 1500, 1502, 1503, 1504, 1506, 1508, 1512, 1518, 1521, 1522, 1523, 1526, 1528, 1529, 1530, 1531, 1535, 1536, 1537, 1538, 3588, 1541, 1542, 1543, 1545, 1548, 1551, 1554, 1555, 1556, 1558, 1559, 1564, 1565, 1566, 1572, 1574, 1575, 1577, 1578, 1580, 1581, 1582, 1583, 1584, 1586, 1590, 1591, 1594, 1595, 1598, 1601, 1602, 1605, 1612, 1620, 1627, 1636, 1640, 1641, 1644, 1650, 1656, 1657, 1665, 1671, 1673, 1676, 1678, 1679, 1680, 1681, 1682, 1683, 1684, 1685, 1691, 1694, 1700, 1704, 1705, 1707, 1708, 1710, 1711, 1714, 1715, 1716, 1717, 1719, 1720, 1721, 1722, 1725, 1726, 1728, 1730, 1731, 1734, 1735, 1736, 1737, 1738, 1746, 1748, 1752, 1754, 1755, 1756, 1757, 1758, 1759, 3810, 1762, 1763, 1766, 1770, 1773, 1774, 1777, 1778, 1779, 1780, 1781, 1782, 1783, 1784, 1785, 1786, 1790, 1794, 1795, 1797, 1798, 1802, 1806, 1808, 1810, 1813, 1815, 1816, 1817, 1818, 1819, 1820, 1821, 1822, 1824, 1825, 1826, 1827, 1828, 1829, 1830, 1831, 1832, 1833, 1834, 1835, 1837, 1838, 1839, 1841, 3890, 1844, 1845, 1847, 1848, 1849, 1850, 1851, 1852, 1853, 1856, 1857, 1858, 1860, 1864, 1865, 1866, 1867, 1870, 1871, 1872, 1873, 1874, 1875, 1877, 1879, 1881, 1882, 1883, 1884, 1885, 1886, 1887, 1888, 1889, 1890, 1893, 1894, 1896, 1897, 1898, 1901, 1902, 1903, 1906, 1908, 1910, 1917, 1923, 1926, 1927, 1933, 1940, 1941, 1947, 1949, 1950, 1952, 1955, 1957, 1958, 1961, 1963, 1964, 1965, 1968, 1970, 1972, 1973, 1975, 1978, 1979, 1981, 1982, 1984, 1985, 1987, 1988, 1990, 1991, 1993, 1994, 1995, 2002, 2003, 2011, 2013, 2014, 2016, 2017, 2018, 2020, 2021, 2022, 2023, 2024, 2030, 2031, 2032, 2033, 2034, 2036, 4087, 2040, 2041, 2042, 2043, 2045, 2047]\n"
     ]
    }
   ],
   "source": [
    "sub1 = list(all_subgraphs.iloc[0,:])\n",
    "print(sub1)"
   ],
   "metadata": {
    "collapsed": false,
    "ExecuteTime": {
     "end_time": "2024-01-18T13:02:32.139152100Z",
     "start_time": "2024-01-18T13:02:32.070407400Z"
    }
   },
   "id": "5eff373157a5c195"
  },
  {
   "cell_type": "code",
   "execution_count": 19,
   "outputs": [
    {
     "name": "stdout",
     "output_type": "stream",
     "text": [
      "{0: ('lncrna', 0), 1: ('lncrna', 1), 2: ('lncrna', 2), 3: ('lncrna', 3), 4: ('lncrna', 4), 5: ('lncrna', 5), 6: ('lncrna', 6), 7: ('lncrna', 7), 8: ('lncrna', 8), 9: ('lncrna', 9), 10: ('lncrna', 10), 11: ('lncrna', 11), 12: ('lncrna', 12), 13: ('lncrna', 13), 14: ('lncrna', 14), 15: ('lncrna', 15), 16: ('lncrna', 16), 17: ('lncrna', 17), 18: ('lncrna', 18), 19: ('lncrna', 19), 20: ('lncrna', 20), 21: ('lncrna', 21), 22: ('lncrna', 22), 23: ('lncrna', 23), 24: ('lncrna', 24), 25: ('lncrna', 25), 26: ('lncrna', 26), 27: ('lncrna', 27), 28: ('lncrna', 28), 29: ('lncrna', 29), 30: ('lncrna', 30), 31: ('lncrna', 31), 32: ('lncrna', 32), 33: ('lncrna', 33), 34: ('lncrna', 34), 35: ('lncrna', 35), 36: ('lncrna', 36), 37: ('lncrna', 37), 38: ('lncrna', 38), 39: ('lncrna', 39), 40: ('lncrna', 40), 41: ('lncrna', 41), 42: ('lncrna', 42), 43: ('lncrna', 43), 44: ('lncrna', 44), 45: ('lncrna', 45), 46: ('lncrna', 46), 47: ('lncrna', 47), 48: ('lncrna', 48), 49: ('lncrna', 49), 50: ('lncrna', 50), 51: ('lncrna', 51), 52: ('lncrna', 52), 53: ('lncrna', 53), 54: ('lncrna', 54), 55: ('lncrna', 55), 56: ('lncrna', 56), 57: ('lncrna', 57), 58: ('lncrna', 58), 59: ('lncrna', 59), 60: ('lncrna', 60), 61: ('lncrna', 61), 62: ('lncrna', 62), 63: ('lncrna', 63), 64: ('lncrna', 64), 65: ('lncrna', 65), 66: ('lncrna', 66), 67: ('lncrna', 67), 68: ('lncrna', 68), 69: ('lncrna', 69), 70: ('lncrna', 70), 71: ('lncrna', 71), 72: ('lncrna', 72), 73: ('lncrna', 73), 74: ('lncrna', 74), 75: ('lncrna', 75), 76: ('lncrna', 76), 77: ('lncrna', 77), 78: ('lncrna', 78), 79: ('lncrna', 79), 80: ('lncrna', 80), 81: ('lncrna', 81), 82: ('lncrna', 82), 83: ('lncrna', 83), 84: ('lncrna', 84), 85: ('lncrna', 85), 86: ('lncrna', 86), 87: ('lncrna', 87), 88: ('lncrna', 88), 89: ('lncrna', 89), 90: ('lncrna', 90), 91: ('lncrna', 91), 92: ('lncrna', 92), 93: ('lncrna', 93), 94: ('lncrna', 94), 95: ('lncrna', 95), 96: ('lncrna', 96), 97: ('lncrna', 97), 98: ('lncrna', 98), 99: ('lncrna', 99), 100: ('lncrna', 100), 101: ('lncrna', 101), 102: ('lncrna', 102), 103: ('lncrna', 103), 104: ('lncrna', 104), 105: ('lncrna', 105), 106: ('lncrna', 106), 107: ('lncrna', 107), 108: ('lncrna', 108), 109: ('lncrna', 109), 110: ('lncrna', 110), 111: ('lncrna', 111), 112: ('lncrna', 112), 113: ('lncrna', 113), 114: ('lncrna', 114), 115: ('lncrna', 115), 116: ('lncrna', 116), 117: ('lncrna', 117), 118: ('lncrna', 118), 119: ('lncrna', 119), 120: ('lncrna', 120), 121: ('lncrna', 121), 122: ('lncrna', 122), 123: ('lncrna', 123), 124: ('lncrna', 124), 125: ('lncrna', 125), 126: ('lncrna', 126), 127: ('lncrna', 127), 128: ('lncrna', 128), 129: ('lncrna', 129), 130: ('lncrna', 130), 131: ('lncrna', 131), 132: ('lncrna', 132), 133: ('lncrna', 133), 134: ('lncrna', 134), 135: ('lncrna', 135), 136: ('lncrna', 136), 137: ('lncrna', 137), 138: ('lncrna', 138), 139: ('lncrna', 139), 140: ('lncrna', 140), 141: ('lncrna', 141), 142: ('lncrna', 142), 143: ('lncrna', 143), 144: ('lncrna', 144), 145: ('lncrna', 145), 146: ('lncrna', 146), 147: ('lncrna', 147), 148: ('lncrna', 148), 149: ('lncrna', 149), 150: ('lncrna', 150), 151: ('lncrna', 151), 152: ('lncrna', 152), 153: ('lncrna', 153), 154: ('lncrna', 154), 155: ('lncrna', 155), 156: ('lncrna', 156), 157: ('lncrna', 157), 158: ('lncrna', 158), 159: ('lncrna', 159), 160: ('lncrna', 160), 161: ('lncrna', 161), 162: ('lncrna', 162), 163: ('lncrna', 163), 164: ('lncrna', 164), 165: ('lncrna', 165), 166: ('lncrna', 166), 167: ('lncrna', 167), 168: ('lncrna', 168), 169: ('lncrna', 169), 170: ('lncrna', 170), 171: ('lncrna', 171), 172: ('lncrna', 172), 173: ('lncrna', 173), 174: ('lncrna', 174), 175: ('lncrna', 175), 176: ('lncrna', 176), 177: ('lncrna', 177), 178: ('lncrna', 178), 179: ('lncrna', 179), 180: ('lncrna', 180), 181: ('lncrna', 181), 182: ('lncrna', 182), 183: ('lncrna', 183), 184: ('lncrna', 184), 185: ('lncrna', 185), 186: ('lncrna', 186), 187: ('lncrna', 187), 188: ('lncrna', 188), 189: ('lncrna', 189), 190: ('lncrna', 190), 191: ('lncrna', 191), 192: ('lncrna', 192), 193: ('lncrna', 193), 194: ('lncrna', 194), 195: ('lncrna', 195), 196: ('lncrna', 196), 197: ('lncrna', 197), 198: ('lncrna', 198), 199: ('lncrna', 199), 200: ('lncrna', 200), 201: ('lncrna', 201), 202: ('lncrna', 202), 203: ('lncrna', 203), 204: ('lncrna', 204), 205: ('lncrna', 205), 206: ('lncrna', 206), 207: ('lncrna', 207), 208: ('lncrna', 208), 209: ('lncrna', 209), 210: ('lncrna', 210), 211: ('lncrna', 211), 212: ('lncrna', 212), 213: ('lncrna', 213), 214: ('lncrna', 214), 215: ('lncrna', 215), 216: ('lncrna', 216), 217: ('lncrna', 217), 218: ('lncrna', 218), 219: ('lncrna', 219), 220: ('lncrna', 220), 221: ('lncrna', 221), 222: ('lncrna', 222), 223: ('lncrna', 223), 224: ('lncrna', 224), 225: ('lncrna', 225), 226: ('lncrna', 226), 227: ('lncrna', 227), 228: ('lncrna', 228), 229: ('lncrna', 229), 230: ('lncrna', 230), 231: ('lncrna', 231), 232: ('lncrna', 232), 233: ('lncrna', 233), 234: ('lncrna', 234), 235: ('lncrna', 235), 236: ('lncrna', 236), 237: ('lncrna', 237), 238: ('lncrna', 238), 239: ('lncrna', 239), 240: ('lncrna', 240), 241: ('lncrna', 241), 242: ('lncrna', 242), 243: ('lncrna', 243), 244: ('lncrna', 244), 245: ('lncrna', 245), 246: ('lncrna', 246), 247: ('lncrna', 247), 248: ('lncrna', 248), 249: ('lncrna', 249), 250: ('lncrna', 250), 251: ('lncrna', 251), 252: ('lncrna', 252), 253: ('lncrna', 253), 254: ('lncrna', 254), 255: ('lncrna', 255), 256: ('lncrna', 256), 257: ('lncrna', 257), 258: ('lncrna', 258), 259: ('lncrna', 259), 260: ('lncrna', 260), 261: ('lncrna', 261), 262: ('lncrna', 262), 263: ('lncrna', 263), 264: ('lncrna', 264), 265: ('lncrna', 265), 266: ('lncrna', 266), 267: ('lncrna', 267), 268: ('lncrna', 268), 269: ('lncrna', 269), 270: ('lncrna', 270), 271: ('lncrna', 271), 272: ('lncrna', 272), 273: ('lncrna', 273), 274: ('lncrna', 274), 275: ('lncrna', 275), 276: ('lncrna', 276), 277: ('lncrna', 277), 278: ('lncrna', 278), 279: ('lncrna', 279), 280: ('lncrna', 280), 281: ('lncrna', 281), 282: ('lncrna', 282), 283: ('lncrna', 283), 284: ('lncrna', 284), 285: ('lncrna', 285), 286: ('lncrna', 286), 287: ('lncrna', 287), 288: ('lncrna', 288), 289: ('lncrna', 289), 290: ('lncrna', 290), 291: ('lncrna', 291), 292: ('lncrna', 292), 293: ('lncrna', 293), 294: ('lncrna', 294), 295: ('lncrna', 295), 296: ('lncrna', 296), 297: ('lncrna', 297), 298: ('lncrna', 298), 299: ('lncrna', 299), 300: ('lncrna', 300), 301: ('lncrna', 301), 302: ('lncrna', 302), 303: ('lncrna', 303), 304: ('lncrna', 304), 305: ('lncrna', 305), 306: ('lncrna', 306), 307: ('lncrna', 307), 308: ('lncrna', 308), 309: ('lncrna', 309), 310: ('lncrna', 310), 311: ('lncrna', 311), 312: ('lncrna', 312), 313: ('lncrna', 313), 314: ('lncrna', 314), 315: ('lncrna', 315), 316: ('lncrna', 316), 317: ('lncrna', 317), 318: ('lncrna', 318), 319: ('lncrna', 319), 320: ('lncrna', 320), 321: ('lncrna', 321), 322: ('lncrna', 322), 323: ('lncrna', 323), 324: ('lncrna', 324), 325: ('lncrna', 325), 326: ('lncrna', 326), 327: ('lncrna', 327), 328: ('lncrna', 328), 329: ('lncrna', 329), 330: ('lncrna', 330), 331: ('lncrna', 331), 332: ('lncrna', 332), 333: ('lncrna', 333), 334: ('lncrna', 334), 335: ('lncrna', 335), 336: ('lncrna', 336), 337: ('lncrna', 337), 338: ('lncrna', 338), 339: ('lncrna', 339), 340: ('lncrna', 340), 341: ('lncrna', 341), 342: ('lncrna', 342), 343: ('lncrna', 343), 344: ('lncrna', 344), 345: ('lncrna', 345), 346: ('lncrna', 346), 347: ('lncrna', 347), 348: ('lncrna', 348), 349: ('lncrna', 349), 350: ('lncrna', 350), 351: ('lncrna', 351), 352: ('lncrna', 352), 353: ('lncrna', 353), 354: ('lncrna', 354), 355: ('lncrna', 355), 356: ('lncrna', 356), 357: ('lncrna', 357), 358: ('lncrna', 358), 359: ('lncrna', 359), 360: ('lncrna', 360), 361: ('lncrna', 361), 362: ('lncrna', 362), 363: ('lncrna', 363), 364: ('lncrna', 364), 365: ('lncrna', 365), 366: ('lncrna', 366), 367: ('lncrna', 367), 368: ('lncrna', 368), 369: ('lncrna', 369), 370: ('lncrna', 370), 371: ('lncrna', 371), 372: ('lncrna', 372), 373: ('lncrna', 373), 374: ('lncrna', 374), 375: ('lncrna', 375), 376: ('lncrna', 376), 377: ('lncrna', 377), 378: ('lncrna', 378), 379: ('lncrna', 379), 380: ('lncrna', 380), 381: ('lncrna', 381), 382: ('lncrna', 382), 383: ('lncrna', 383), 384: ('lncrna', 384), 385: ('lncrna', 385), 386: ('lncrna', 386), 387: ('lncrna', 387), 388: ('lncrna', 388), 389: ('lncrna', 389), 390: ('lncrna', 390), 391: ('lncrna', 391), 392: ('lncrna', 392), 393: ('lncrna', 393), 394: ('lncrna', 394), 395: ('lncrna', 395), 396: ('lncrna', 396), 397: ('lncrna', 397), 398: ('lncrna', 398), 399: ('lncrna', 399), 400: ('lncrna', 400), 401: ('lncrna', 401), 402: ('lncrna', 402), 403: ('lncrna', 403), 404: ('lncrna', 404), 405: ('lncrna', 405), 406: ('lncrna', 406), 407: ('lncrna', 407), 408: ('lncrna', 408), 409: ('lncrna', 409), 410: ('lncrna', 410), 411: ('lncrna', 411), 412: ('lncrna', 412), 413: ('lncrna', 413), 414: ('lncrna', 414), 415: ('lncrna', 415), 416: ('lncrna', 416), 417: ('lncrna', 417), 418: ('lncrna', 418), 419: ('lncrna', 419), 420: ('lncrna', 420), 421: ('lncrna', 421), 422: ('lncrna', 422), 423: ('lncrna', 423), 424: ('lncrna', 424), 425: ('lncrna', 425), 426: ('lncrna', 426), 427: ('lncrna', 427), 428: ('lncrna', 428), 429: ('lncrna', 429), 430: ('lncrna', 430), 431: ('lncrna', 431), 432: ('lncrna', 432), 433: ('lncrna', 433), 434: ('lncrna', 434), 435: ('lncrna', 435), 436: ('lncrna', 436), 437: ('lncrna', 437), 438: ('lncrna', 438), 439: ('lncrna', 439), 440: ('lncrna', 440), 441: ('lncrna', 441), 442: ('lncrna', 442), 443: ('lncrna', 443), 444: ('lncrna', 444), 445: ('lncrna', 445), 446: ('lncrna', 446), 447: ('lncrna', 447), 448: ('lncrna', 448), 449: ('lncrna', 449), 450: ('lncrna', 450), 451: ('lncrna', 451), 452: ('lncrna', 452), 453: ('lncrna', 453), 454: ('lncrna', 454), 455: ('lncrna', 455), 456: ('lncrna', 456), 457: ('lncrna', 457), 458: ('lncrna', 458), 459: ('lncrna', 459), 460: ('lncrna', 460), 461: ('lncrna', 461), 462: ('lncrna', 462), 463: ('lncrna', 463), 464: ('lncrna', 464), 465: ('lncrna', 465), 466: ('lncrna', 466), 467: ('lncrna', 467), 468: ('lncrna', 468), 469: ('lncrna', 469), 470: ('lncrna', 470), 471: ('lncrna', 471), 472: ('lncrna', 472), 473: ('lncrna', 473), 474: ('lncrna', 474), 475: ('lncrna', 475), 476: ('lncrna', 476), 477: ('lncrna', 477), 478: ('lncrna', 478), 479: ('lncrna', 479), 480: ('lncrna', 480), 481: ('lncrna', 481), 482: ('lncrna', 482), 483: ('lncrna', 483), 484: ('lncrna', 484), 485: ('lncrna', 485), 486: ('lncrna', 486), 487: ('lncrna', 487), 488: ('lncrna', 488), 489: ('lncrna', 489), 490: ('lncrna', 490), 491: ('lncrna', 491), 492: ('lncrna', 492), 493: ('lncrna', 493), 494: ('lncrna', 494), 495: ('lncrna', 495), 496: ('lncrna', 496), 497: ('lncrna', 497), 498: ('lncrna', 498), 499: ('lncrna', 499), 500: ('lncrna', 500), 501: ('lncrna', 501), 502: ('lncrna', 502), 503: ('lncrna', 503), 504: ('lncrna', 504), 505: ('lncrna', 505), 506: ('lncrna', 506), 507: ('lncrna', 507), 508: ('lncrna', 508), 509: ('lncrna', 509), 510: ('lncrna', 510), 511: ('lncrna', 511), 512: ('lncrna', 512), 513: ('lncrna', 513), 514: ('lncrna', 514), 515: ('lncrna', 515), 516: ('lncrna', 516), 517: ('lncrna', 517), 518: ('lncrna', 518), 519: ('lncrna', 519), 520: ('lncrna', 520), 521: ('lncrna', 521), 522: ('lncrna', 522), 523: ('lncrna', 523), 524: ('lncrna', 524), 525: ('lncrna', 525), 526: ('lncrna', 526), 527: ('lncrna', 527), 528: ('lncrna', 528), 529: ('lncrna', 529), 530: ('lncrna', 530), 531: ('lncrna', 531), 532: ('lncrna', 532), 533: ('lncrna', 533), 534: ('lncrna', 534), 535: ('lncrna', 535), 536: ('lncrna', 536), 537: ('lncrna', 537), 538: ('lncrna', 538), 539: ('lncrna', 539), 540: ('lncrna', 540), 541: ('lncrna', 541), 542: ('lncrna', 542), 543: ('lncrna', 543), 544: ('lncrna', 544), 545: ('lncrna', 545), 546: ('lncrna', 546), 547: ('lncrna', 547), 548: ('lncrna', 548), 549: ('lncrna', 549), 550: ('lncrna', 550), 551: ('lncrna', 551), 552: ('lncrna', 552), 553: ('lncrna', 553), 554: ('lncrna', 554), 555: ('lncrna', 555), 556: ('lncrna', 556), 557: ('lncrna', 557), 558: ('lncrna', 558), 559: ('lncrna', 559), 560: ('lncrna', 560), 561: ('lncrna', 561), 562: ('lncrna', 562), 563: ('lncrna', 563), 564: ('lncrna', 564), 565: ('lncrna', 565), 566: ('lncrna', 566), 567: ('lncrna', 567), 568: ('lncrna', 568), 569: ('lncrna', 569), 570: ('lncrna', 570), 571: ('lncrna', 571), 572: ('lncrna', 572), 573: ('lncrna', 573), 574: ('lncrna', 574), 575: ('lncrna', 575), 576: ('lncrna', 576), 577: ('lncrna', 577), 578: ('lncrna', 578), 579: ('lncrna', 579), 580: ('lncrna', 580), 581: ('lncrna', 581), 582: ('lncrna', 582), 583: ('lncrna', 583), 584: ('lncrna', 584), 585: ('lncrna', 585), 586: ('lncrna', 586), 587: ('lncrna', 587), 588: ('lncrna', 588), 589: ('lncrna', 589), 590: ('lncrna', 590), 591: ('lncrna', 591), 592: ('lncrna', 592), 593: ('lncrna', 593), 594: ('lncrna', 594), 595: ('lncrna', 595), 596: ('lncrna', 596), 597: ('lncrna', 597), 598: ('lncrna', 598), 599: ('lncrna', 599), 600: ('lncrna', 600), 601: ('lncrna', 601), 602: ('lncrna', 602), 603: ('lncrna', 603), 604: ('lncrna', 604), 605: ('lncrna', 605), 606: ('lncrna', 606), 607: ('lncrna', 607), 608: ('lncrna', 608), 609: ('lncrna', 609), 610: ('lncrna', 610), 611: ('lncrna', 611), 612: ('lncrna', 612), 613: ('lncrna', 613), 614: ('lncrna', 614), 615: ('lncrna', 615), 616: ('lncrna', 616), 617: ('lncrna', 617), 618: ('lncrna', 618), 619: ('lncrna', 619), 620: ('lncrna', 620), 621: ('lncrna', 621), 622: ('lncrna', 622), 623: ('lncrna', 623), 624: ('lncrna', 624), 625: ('lncrna', 625), 626: ('lncrna', 626), 627: ('lncrna', 627), 628: ('lncrna', 628), 629: ('lncrna', 629), 630: ('lncrna', 630), 631: ('lncrna', 631), 632: ('lncrna', 632), 633: ('lncrna', 633), 634: ('lncrna', 634), 635: ('lncrna', 635), 636: ('lncrna', 636), 637: ('lncrna', 637), 638: ('lncrna', 638), 639: ('lncrna', 639), 640: ('lncrna', 640), 641: ('lncrna', 641), 642: ('lncrna', 642), 643: ('lncrna', 643), 644: ('lncrna', 644), 645: ('lncrna', 645), 646: ('lncrna', 646), 647: ('lncrna', 647), 648: ('lncrna', 648), 649: ('lncrna', 649), 650: ('lncrna', 650), 651: ('lncrna', 651), 652: ('lncrna', 652), 653: ('lncrna', 653), 654: ('lncrna', 654), 655: ('lncrna', 655), 656: ('lncrna', 656), 657: ('lncrna', 657), 658: ('lncrna', 658), 659: ('lncrna', 659), 660: ('lncrna', 660), 661: ('lncrna', 661), 662: ('lncrna', 662), 663: ('lncrna', 663), 664: ('lncrna', 664), 665: ('lncrna', 665), 666: ('lncrna', 666), 667: ('lncrna', 667), 668: ('lncrna', 668), 669: ('lncrna', 669), 670: ('lncrna', 670), 671: ('lncrna', 671), 672: ('lncrna', 672), 673: ('lncrna', 673), 674: ('lncrna', 674), 675: ('lncrna', 675), 676: ('lncrna', 676), 677: ('lncrna', 677), 678: ('lncrna', 678), 679: ('lncrna', 679), 680: ('lncrna', 680), 681: ('lncrna', 681), 682: ('lncrna', 682), 683: ('lncrna', 683), 684: ('lncrna', 684), 685: ('lncrna', 685), 686: ('lncrna', 686), 687: ('lncrna', 687), 688: ('lncrna', 688), 689: ('lncrna', 689), 690: ('lncrna', 690), 691: ('lncrna', 691), 692: ('lncrna', 692), 693: ('lncrna', 693), 694: ('lncrna', 694), 695: ('lncrna', 695), 696: ('lncrna', 696), 697: ('lncrna', 697), 698: ('lncrna', 698), 699: ('lncrna', 699), 700: ('lncrna', 700), 701: ('lncrna', 701), 702: ('lncrna', 702), 703: ('lncrna', 703), 704: ('lncrna', 704), 705: ('lncrna', 705), 706: ('lncrna', 706), 707: ('lncrna', 707), 708: ('lncrna', 708), 709: ('lncrna', 709), 710: ('lncrna', 710), 711: ('lncrna', 711), 712: ('lncrna', 712), 713: ('lncrna', 713), 714: ('lncrna', 714), 715: ('lncrna', 715), 716: ('lncrna', 716), 717: ('lncrna', 717), 718: ('lncrna', 718), 719: ('lncrna', 719), 720: ('lncrna', 720), 721: ('lncrna', 721), 722: ('lncrna', 722), 723: ('lncrna', 723), 724: ('lncrna', 724), 725: ('lncrna', 725), 726: ('lncrna', 726), 727: ('lncrna', 727), 728: ('lncrna', 728), 729: ('lncrna', 729), 730: ('lncrna', 730), 731: ('lncrna', 731), 732: ('lncrna', 732), 733: ('lncrna', 733), 734: ('lncrna', 734), 735: ('lncrna', 735), 736: ('lncrna', 736), 737: ('lncrna', 737), 738: ('lncrna', 738), 739: ('lncrna', 739), 740: ('lncrna', 740), 741: ('lncrna', 741), 742: ('lncrna', 742), 743: ('lncrna', 743), 744: ('lncrna', 744), 745: ('lncrna', 745), 746: ('lncrna', 746), 747: ('lncrna', 747), 748: ('lncrna', 748), 749: ('lncrna', 749), 750: ('lncrna', 750), 751: ('lncrna', 751), 752: ('lncrna', 752), 753: ('lncrna', 753), 754: ('lncrna', 754), 755: ('lncrna', 755), 756: ('lncrna', 756), 757: ('lncrna', 757), 758: ('lncrna', 758), 759: ('lncrna', 759), 760: ('lncrna', 760), 761: ('lncrna', 761), 762: ('lncrna', 762), 763: ('lncrna', 763), 764: ('lncrna', 764), 765: ('lncrna', 765), 766: ('lncrna', 766), 767: ('lncrna', 767), 768: ('lncrna', 768), 769: ('lncrna', 769), 770: ('lncrna', 770), 771: ('lncrna', 771), 772: ('lncrna', 772), 773: ('lncrna', 773), 774: ('lncrna', 774), 775: ('lncrna', 775), 776: ('lncrna', 776), 777: ('lncrna', 777), 778: ('lncrna', 778), 779: ('lncrna', 779), 780: ('lncrna', 780), 781: ('lncrna', 781), 782: ('lncrna', 782), 783: ('lncrna', 783), 784: ('lncrna', 784), 785: ('lncrna', 785), 786: ('lncrna', 786), 787: ('lncrna', 787), 788: ('lncrna', 788), 789: ('lncrna', 789), 790: ('lncrna', 790), 791: ('lncrna', 791), 792: ('lncrna', 792), 793: ('lncrna', 793), 794: ('lncrna', 794), 795: ('lncrna', 795), 796: ('lncrna', 796), 797: ('lncrna', 797), 798: ('lncrna', 798), 799: ('lncrna', 799), 800: ('lncrna', 800), 801: ('lncrna', 801), 802: ('lncrna', 802), 803: ('lncrna', 803), 804: ('lncrna', 804), 805: ('lncrna', 805), 806: ('lncrna', 806), 807: ('lncrna', 807), 808: ('lncrna', 808), 809: ('lncrna', 809), 810: ('lncrna', 810), 811: ('lncrna', 811), 812: ('lncrna', 812), 813: ('lncrna', 813), 814: ('lncrna', 814), 815: ('lncrna', 815), 816: ('lncrna', 816), 817: ('lncrna', 817), 818: ('lncrna', 818), 819: ('lncrna', 819), 820: ('lncrna', 820), 821: ('lncrna', 821), 822: ('lncrna', 822), 823: ('lncrna', 823), 824: ('lncrna', 824), 825: ('lncrna', 825), 826: ('lncrna', 826), 827: ('lncrna', 827), 828: ('lncrna', 828), 829: ('lncrna', 829), 830: ('lncrna', 830), 831: ('lncrna', 831), 832: ('lncrna', 832), 833: ('lncrna', 833), 834: ('lncrna', 834), 835: ('lncrna', 835), 836: ('lncrna', 836), 837: ('lncrna', 837), 838: ('lncrna', 838), 839: ('lncrna', 839), 840: ('lncrna', 840), 841: ('lncrna', 841), 842: ('lncrna', 842), 843: ('lncrna', 843), 844: ('lncrna', 844), 845: ('lncrna', 845), 846: ('lncrna', 846), 847: ('lncrna', 847), 848: ('lncrna', 848), 849: ('lncrna', 849), 850: ('lncrna', 850), 851: ('lncrna', 851), 852: ('lncrna', 852), 853: ('lncrna', 853), 854: ('lncrna', 854), 855: ('lncrna', 855), 856: ('lncrna', 856), 857: ('lncrna', 857), 858: ('lncrna', 858), 859: ('lncrna', 859), 860: ('lncrna', 860), 861: ('lncrna', 861), 862: ('lncrna', 862), 863: ('lncrna', 863), 864: ('lncrna', 864), 865: ('lncrna', 865), 866: ('lncrna', 866), 867: ('lncrna', 867), 868: ('lncrna', 868), 869: ('lncrna', 869), 870: ('lncrna', 870), 871: ('lncrna', 871), 872: ('lncrna', 872), 873: ('lncrna', 873), 874: ('lncrna', 874), 875: ('lncrna', 875), 876: ('lncrna', 876), 877: ('lncrna', 877), 878: ('lncrna', 878), 879: ('lncrna', 879), 880: ('lncrna', 880), 881: ('lncrna', 881), 882: ('lncrna', 882), 883: ('lncrna', 883), 884: ('lncrna', 884), 885: ('lncrna', 885), 886: ('lncrna', 886), 887: ('lncrna', 887), 888: ('lncrna', 888), 889: ('lncrna', 889), 890: ('lncrna', 890), 891: ('lncrna', 891), 892: ('lncrna', 892), 893: ('lncrna', 893), 894: ('lncrna', 894), 895: ('lncrna', 895), 896: ('lncrna', 896), 897: ('lncrna', 897), 898: ('lncrna', 898), 899: ('lncrna', 899), 900: ('lncrna', 900), 901: ('lncrna', 901), 902: ('lncrna', 902), 903: ('lncrna', 903), 904: ('lncrna', 904), 905: ('lncrna', 905), 906: ('lncrna', 906), 907: ('lncrna', 907), 908: ('lncrna', 908), 909: ('lncrna', 909), 910: ('lncrna', 910), 911: ('lncrna', 911), 912: ('lncrna', 912), 913: ('lncrna', 913), 914: ('lncrna', 914), 915: ('lncrna', 915), 916: ('lncrna', 916), 917: ('lncrna', 917), 918: ('lncrna', 918), 919: ('lncrna', 919), 920: ('lncrna', 920), 921: ('lncrna', 921), 922: ('lncrna', 922), 923: ('lncrna', 923), 924: ('lncrna', 924), 925: ('lncrna', 925), 926: ('lncrna', 926), 927: ('lncrna', 927), 928: ('lncrna', 928), 929: ('lncrna', 929), 930: ('lncrna', 930), 931: ('lncrna', 931), 932: ('lncrna', 932), 933: ('lncrna', 933), 934: ('lncrna', 934), 935: ('lncrna', 935), 936: ('lncrna', 936), 937: ('lncrna', 937), 938: ('lncrna', 938), 939: ('lncrna', 939), 940: ('lncrna', 940), 941: ('lncrna', 941), 942: ('lncrna', 942), 943: ('lncrna', 943), 944: ('lncrna', 944), 945: ('lncrna', 945), 946: ('lncrna', 946), 947: ('lncrna', 947), 948: ('lncrna', 948), 949: ('lncrna', 949), 950: ('lncrna', 950), 951: ('lncrna', 951), 952: ('lncrna', 952), 953: ('lncrna', 953), 954: ('lncrna', 954), 955: ('lncrna', 955), 956: ('lncrna', 956), 957: ('lncrna', 957), 958: ('lncrna', 958), 959: ('lncrna', 959), 960: ('lncrna', 960), 961: ('lncrna', 961), 962: ('lncrna', 962), 963: ('lncrna', 963), 964: ('lncrna', 964), 965: ('lncrna', 965), 966: ('lncrna', 966), 967: ('lncrna', 967), 968: ('lncrna', 968), 969: ('lncrna', 969), 970: ('lncrna', 970), 971: ('lncrna', 971), 972: ('lncrna', 972), 973: ('lncrna', 973), 974: ('lncrna', 974), 975: ('lncrna', 975), 976: ('lncrna', 976), 977: ('lncrna', 977), 978: ('lncrna', 978), 979: ('lncrna', 979), 980: ('lncrna', 980), 981: ('lncrna', 981), 982: ('lncrna', 982), 983: ('lncrna', 983), 984: ('lncrna', 984), 985: ('lncrna', 985), 986: ('lncrna', 986), 987: ('lncrna', 987), 988: ('lncrna', 988), 989: ('lncrna', 989), 990: ('lncrna', 990), 991: ('lncrna', 991), 992: ('lncrna', 992), 993: ('lncrna', 993), 994: ('lncrna', 994), 995: ('lncrna', 995), 996: ('lncrna', 996), 997: ('lncrna', 997), 998: ('lncrna', 998), 999: ('lncrna', 999), 1000: ('lncrna', 1000), 1001: ('lncrna', 1001), 1002: ('lncrna', 1002), 1003: ('lncrna', 1003), 1004: ('lncrna', 1004), 1005: ('lncrna', 1005), 1006: ('lncrna', 1006), 1007: ('lncrna', 1007), 1008: ('lncrna', 1008), 1009: ('lncrna', 1009), 1010: ('lncrna', 1010), 1011: ('lncrna', 1011), 1012: ('lncrna', 1012), 1013: ('lncrna', 1013), 1014: ('lncrna', 1014), 1015: ('lncrna', 1015), 1016: ('lncrna', 1016), 1017: ('lncrna', 1017), 1018: ('lncrna', 1018), 1019: ('lncrna', 1019), 1020: ('lncrna', 1020), 1021: ('lncrna', 1021), 1022: ('lncrna', 1022), 1023: ('lncrna', 1023), 1024: ('lncrna', 1024), 1025: ('lncrna', 1025), 1026: ('lncrna', 1026), 1027: ('lncrna', 1027), 1028: ('lncrna', 1028), 1029: ('lncrna', 1029), 1030: ('lncrna', 1030), 1031: ('lncrna', 1031), 1032: ('lncrna', 1032), 1033: ('lncrna', 1033), 1034: ('lncrna', 1034), 1035: ('lncrna', 1035), 1036: ('lncrna', 1036), 1037: ('lncrna', 1037), 1038: ('lncrna', 1038), 1039: ('lncrna', 1039), 1040: ('lncrna', 1040), 1041: ('lncrna', 1041), 1042: ('lncrna', 1042), 1043: ('lncrna', 1043), 1044: ('lncrna', 1044), 1045: ('lncrna', 1045), 1046: ('lncrna', 1046), 1047: ('lncrna', 1047), 1048: ('lncrna', 1048), 1049: ('lncrna', 1049), 1050: ('lncrna', 1050), 1051: ('lncrna', 1051), 1052: ('lncrna', 1052), 1053: ('lncrna', 1053), 1054: ('lncrna', 1054), 1055: ('lncrna', 1055), 1056: ('lncrna', 1056), 1057: ('lncrna', 1057), 1058: ('lncrna', 1058), 1059: ('lncrna', 1059), 1060: ('lncrna', 1060), 1061: ('lncrna', 1061), 1062: ('lncrna', 1062), 1063: ('lncrna', 1063), 1064: ('lncrna', 1064), 1065: ('lncrna', 1065), 1066: ('lncrna', 1066), 1067: ('lncrna', 1067), 1068: ('lncrna', 1068), 1069: ('lncrna', 1069), 1070: ('lncrna', 1070), 1071: ('lncrna', 1071), 1072: ('lncrna', 1072), 1073: ('lncrna', 1073), 1074: ('lncrna', 1074), 1075: ('lncrna', 1075), 1076: ('lncrna', 1076), 1077: ('lncrna', 1077), 1078: ('lncrna', 1078), 1079: ('lncrna', 1079), 1080: ('lncrna', 1080), 1081: ('lncrna', 1081), 1082: ('lncrna', 1082), 1083: ('lncrna', 1083), 1084: ('lncrna', 1084), 1085: ('lncrna', 1085), 1086: ('lncrna', 1086), 1087: ('lncrna', 1087), 1088: ('lncrna', 1088), 1089: ('lncrna', 1089), 1090: ('lncrna', 1090), 1091: ('lncrna', 1091), 1092: ('lncrna', 1092), 1093: ('lncrna', 1093), 1094: ('lncrna', 1094), 1095: ('lncrna', 1095), 1096: ('lncrna', 1096), 1097: ('lncrna', 1097), 1098: ('lncrna', 1098), 1099: ('lncrna', 1099), 1100: ('lncrna', 1100), 1101: ('lncrna', 1101), 1102: ('lncrna', 1102), 1103: ('lncrna', 1103), 1104: ('lncrna', 1104), 1105: ('lncrna', 1105), 1106: ('lncrna', 1106), 1107: ('lncrna', 1107), 1108: ('lncrna', 1108), 1109: ('lncrna', 1109), 1110: ('lncrna', 1110), 1111: ('lncrna', 1111), 1112: ('lncrna', 1112), 1113: ('lncrna', 1113), 1114: ('lncrna', 1114), 1115: ('lncrna', 1115), 1116: ('lncrna', 1116), 1117: ('lncrna', 1117), 1118: ('lncrna', 1118), 1119: ('lncrna', 1119), 1120: ('lncrna', 1120), 1121: ('lncrna', 1121), 1122: ('lncrna', 1122), 1123: ('lncrna', 1123), 1124: ('lncrna', 1124), 1125: ('lncrna', 1125), 1126: ('lncrna', 1126), 1127: ('lncrna', 1127), 1128: ('lncrna', 1128), 1129: ('lncrna', 1129), 1130: ('lncrna', 1130), 1131: ('lncrna', 1131), 1132: ('lncrna', 1132), 1133: ('lncrna', 1133), 1134: ('lncrna', 1134), 1135: ('lncrna', 1135), 1136: ('lncrna', 1136), 1137: ('lncrna', 1137), 1138: ('lncrna', 1138), 1139: ('lncrna', 1139), 1140: ('lncrna', 1140), 1141: ('lncrna', 1141), 1142: ('lncrna', 1142), 1143: ('lncrna', 1143), 1144: ('lncrna', 1144), 1145: ('lncrna', 1145), 1146: ('lncrna', 1146), 1147: ('lncrna', 1147), 1148: ('lncrna', 1148), 1149: ('lncrna', 1149), 1150: ('lncrna', 1150), 1151: ('lncrna', 1151), 1152: ('lncrna', 1152), 1153: ('lncrna', 1153), 1154: ('lncrna', 1154), 1155: ('lncrna', 1155), 1156: ('lncrna', 1156), 1157: ('lncrna', 1157), 1158: ('lncrna', 1158), 1159: ('lncrna', 1159), 1160: ('lncrna', 1160), 1161: ('lncrna', 1161), 1162: ('lncrna', 1162), 1163: ('lncrna', 1163), 1164: ('lncrna', 1164), 1165: ('lncrna', 1165), 1166: ('lncrna', 1166), 1167: ('lncrna', 1167), 1168: ('lncrna', 1168), 1169: ('lncrna', 1169), 1170: ('lncrna', 1170), 1171: ('lncrna', 1171), 1172: ('lncrna', 1172), 1173: ('lncrna', 1173), 1174: ('lncrna', 1174), 1175: ('lncrna', 1175), 1176: ('lncrna', 1176), 1177: ('lncrna', 1177), 1178: ('lncrna', 1178), 1179: ('lncrna', 1179), 1180: ('lncrna', 1180), 1181: ('lncrna', 1181), 1182: ('lncrna', 1182), 1183: ('lncrna', 1183), 1184: ('lncrna', 1184), 1185: ('lncrna', 1185), 1186: ('lncrna', 1186), 1187: ('lncrna', 1187), 1188: ('lncrna', 1188), 1189: ('lncrna', 1189), 1190: ('lncrna', 1190), 1191: ('lncrna', 1191), 1192: ('lncrna', 1192), 1193: ('lncrna', 1193), 1194: ('lncrna', 1194), 1195: ('lncrna', 1195), 1196: ('lncrna', 1196), 1197: ('lncrna', 1197), 1198: ('lncrna', 1198), 1199: ('lncrna', 1199), 1200: ('lncrna', 1200), 1201: ('lncrna', 1201), 1202: ('lncrna', 1202), 1203: ('lncrna', 1203), 1204: ('lncrna', 1204), 1205: ('lncrna', 1205), 1206: ('lncrna', 1206), 1207: ('lncrna', 1207), 1208: ('lncrna', 1208), 1209: ('lncrna', 1209), 1210: ('lncrna', 1210), 1211: ('lncrna', 1211), 1212: ('lncrna', 1212), 1213: ('lncrna', 1213), 1214: ('lncrna', 1214), 1215: ('lncrna', 1215), 1216: ('lncrna', 1216), 1217: ('lncrna', 1217), 1218: ('lncrna', 1218), 1219: ('lncrna', 1219), 1220: ('lncrna', 1220), 1221: ('lncrna', 1221), 1222: ('lncrna', 1222), 1223: ('lncrna', 1223), 1224: ('lncrna', 1224), 1225: ('lncrna', 1225), 1226: ('lncrna', 1226), 1227: ('lncrna', 1227), 1228: ('lncrna', 1228), 1229: ('lncrna', 1229), 1230: ('lncrna', 1230), 1231: ('lncrna', 1231), 1232: ('lncrna', 1232), 1233: ('lncrna', 1233), 1234: ('lncrna', 1234), 1235: ('lncrna', 1235), 1236: ('lncrna', 1236), 1237: ('lncrna', 1237), 1238: ('lncrna', 1238), 1239: ('lncrna', 1239), 1240: ('lncrna', 1240), 1241: ('lncrna', 1241), 1242: ('lncrna', 1242), 1243: ('lncrna', 1243), 1244: ('lncrna', 1244), 1245: ('lncrna', 1245), 1246: ('lncrna', 1246), 1247: ('lncrna', 1247), 1248: ('lncrna', 1248), 1249: ('lncrna', 1249), 1250: ('lncrna', 1250), 1251: ('lncrna', 1251), 1252: ('lncrna', 1252), 1253: ('lncrna', 1253), 1254: ('lncrna', 1254), 1255: ('lncrna', 1255), 1256: ('lncrna', 1256), 1257: ('lncrna', 1257), 1258: ('lncrna', 1258), 1259: ('lncrna', 1259), 1260: ('lncrna', 1260), 1261: ('lncrna', 1261), 1262: ('lncrna', 1262), 1263: ('lncrna', 1263), 1264: ('lncrna', 1264), 1265: ('lncrna', 1265), 1266: ('lncrna', 1266), 1267: ('lncrna', 1267), 1268: ('lncrna', 1268), 1269: ('lncrna', 1269), 1270: ('lncrna', 1270), 1271: ('lncrna', 1271), 1272: ('lncrna', 1272), 1273: ('lncrna', 1273), 1274: ('lncrna', 1274), 1275: ('lncrna', 1275), 1276: ('lncrna', 1276), 1277: ('lncrna', 1277), 1278: ('lncrna', 1278), 1279: ('lncrna', 1279), 1280: ('lncrna', 1280), 1281: ('lncrna', 1281), 1282: ('lncrna', 1282), 1283: ('lncrna', 1283), 1284: ('lncrna', 1284), 1285: ('lncrna', 1285), 1286: ('lncrna', 1286), 1287: ('lncrna', 1287), 1288: ('lncrna', 1288), 1289: ('lncrna', 1289), 1290: ('lncrna', 1290), 1291: ('lncrna', 1291), 1292: ('lncrna', 1292), 1293: ('lncrna', 1293), 1294: ('lncrna', 1294), 1295: ('lncrna', 1295), 1296: ('lncrna', 1296), 1297: ('lncrna', 1297), 1298: ('lncrna', 1298), 1299: ('lncrna', 1299), 1300: ('lncrna', 1300), 1301: ('lncrna', 1301), 1302: ('lncrna', 1302), 1303: ('lncrna', 1303), 1304: ('lncrna', 1304), 1305: ('lncrna', 1305), 1306: ('lncrna', 1306), 1307: ('lncrna', 1307), 1308: ('lncrna', 1308), 1309: ('lncrna', 1309), 1310: ('lncrna', 1310), 1311: ('lncrna', 1311), 1312: ('lncrna', 1312), 1313: ('lncrna', 1313), 1314: ('lncrna', 1314), 1315: ('lncrna', 1315), 1316: ('lncrna', 1316), 1317: ('lncrna', 1317), 1318: ('lncrna', 1318), 1319: ('lncrna', 1319), 1320: ('lncrna', 1320), 1321: ('lncrna', 1321), 1322: ('lncrna', 1322), 1323: ('lncrna', 1323), 1324: ('lncrna', 1324), 1325: ('lncrna', 1325), 1326: ('lncrna', 1326), 1327: ('lncrna', 1327), 1328: ('lncrna', 1328), 1329: ('lncrna', 1329), 1330: ('lncrna', 1330), 1331: ('lncrna', 1331), 1332: ('lncrna', 1332), 1333: ('lncrna', 1333), 1334: ('lncrna', 1334), 1335: ('lncrna', 1335), 1336: ('lncrna', 1336), 1337: ('lncrna', 1337), 1338: ('lncrna', 1338), 1339: ('lncrna', 1339), 1340: ('lncrna', 1340), 1341: ('lncrna', 1341), 1342: ('lncrna', 1342), 1343: ('lncrna', 1343), 1344: ('lncrna', 1344), 1345: ('lncrna', 1345), 1346: ('lncrna', 1346), 1347: ('lncrna', 1347), 1348: ('lncrna', 1348), 1349: ('lncrna', 1349), 1350: ('lncrna', 1350), 1351: ('lncrna', 1351), 1352: ('lncrna', 1352), 1353: ('lncrna', 1353), 1354: ('lncrna', 1354), 1355: ('lncrna', 1355), 1356: ('lncrna', 1356), 1357: ('lncrna', 1357), 1358: ('lncrna', 1358), 1359: ('lncrna', 1359), 1360: ('lncrna', 1360), 1361: ('lncrna', 1361), 1362: ('lncrna', 1362), 1363: ('lncrna', 1363), 1364: ('lncrna', 1364), 1365: ('lncrna', 1365), 1366: ('lncrna', 1366), 1367: ('lncrna', 1367), 1368: ('lncrna', 1368), 1369: ('lncrna', 1369), 1370: ('lncrna', 1370), 1371: ('lncrna', 1371), 1372: ('lncrna', 1372), 1373: ('lncrna', 1373), 1374: ('lncrna', 1374), 1375: ('lncrna', 1375), 1376: ('lncrna', 1376), 1377: ('lncrna', 1377), 1378: ('lncrna', 1378), 1379: ('lncrna', 1379), 1380: ('lncrna', 1380), 1381: ('lncrna', 1381), 1382: ('lncrna', 1382), 1383: ('lncrna', 1383), 1384: ('lncrna', 1384), 1385: ('lncrna', 1385), 1386: ('lncrna', 1386), 1387: ('lncrna', 1387), 1388: ('lncrna', 1388), 1389: ('lncrna', 1389), 1390: ('lncrna', 1390), 1391: ('lncrna', 1391), 1392: ('lncrna', 1392), 1393: ('lncrna', 1393), 1394: ('lncrna', 1394), 1395: ('lncrna', 1395), 1396: ('lncrna', 1396), 1397: ('lncrna', 1397), 1398: ('lncrna', 1398), 1399: ('lncrna', 1399), 1400: ('lncrna', 1400), 1401: ('lncrna', 1401), 1402: ('lncrna', 1402), 1403: ('lncrna', 1403), 1404: ('lncrna', 1404), 1405: ('lncrna', 1405), 1406: ('lncrna', 1406), 1407: ('lncrna', 1407), 1408: ('lncrna', 1408), 1409: ('lncrna', 1409), 1410: ('lncrna', 1410), 1411: ('lncrna', 1411), 1412: ('lncrna', 1412), 1413: ('lncrna', 1413), 1414: ('lncrna', 1414), 1415: ('lncrna', 1415), 1416: ('lncrna', 1416), 1417: ('lncrna', 1417), 1418: ('lncrna', 1418), 1419: ('lncrna', 1419), 1420: ('lncrna', 1420), 1421: ('lncrna', 1421), 1422: ('lncrna', 1422), 1423: ('lncrna', 1423), 1424: ('lncrna', 1424), 1425: ('lncrna', 1425), 1426: ('lncrna', 1426), 1427: ('lncrna', 1427), 1428: ('lncrna', 1428), 1429: ('lncrna', 1429), 1430: ('lncrna', 1430), 1431: ('lncrna', 1431), 1432: ('lncrna', 1432), 1433: ('lncrna', 1433), 1434: ('lncrna', 1434), 1435: ('lncrna', 1435), 1436: ('lncrna', 1436), 1437: ('lncrna', 1437), 1438: ('lncrna', 1438), 1439: ('lncrna', 1439), 1440: ('lncrna', 1440), 1441: ('lncrna', 1441), 1442: ('lncrna', 1442), 1443: ('lncrna', 1443), 1444: ('lncrna', 1444), 1445: ('lncrna', 1445), 1446: ('lncrna', 1446), 1447: ('lncrna', 1447), 1448: ('lncrna', 1448), 1449: ('lncrna', 1449), 1450: ('lncrna', 1450), 1451: ('lncrna', 1451), 1452: ('lncrna', 1452), 1453: ('lncrna', 1453), 1454: ('lncrna', 1454), 1455: ('lncrna', 1455), 1456: ('lncrna', 1456), 1457: ('lncrna', 1457), 1458: ('lncrna', 1458), 1459: ('lncrna', 1459), 1460: ('lncrna', 1460), 1461: ('lncrna', 1461), 1462: ('lncrna', 1462), 1463: ('lncrna', 1463), 1464: ('lncrna', 1464), 1465: ('lncrna', 1465), 1466: ('lncrna', 1466), 1467: ('lncrna', 1467), 1468: ('lncrna', 1468), 1469: ('lncrna', 1469), 1470: ('lncrna', 1470), 1471: ('lncrna', 1471), 1472: ('lncrna', 1472), 1473: ('lncrna', 1473), 1474: ('lncrna', 1474), 1475: ('lncrna', 1475), 1476: ('lncrna', 1476), 1477: ('lncrna', 1477), 1478: ('lncrna', 1478), 1479: ('lncrna', 1479), 1480: ('lncrna', 1480), 1481: ('lncrna', 1481), 1482: ('lncrna', 1482), 1483: ('lncrna', 1483), 1484: ('lncrna', 1484), 1485: ('lncrna', 1485), 1486: ('lncrna', 1486), 1487: ('lncrna', 1487), 1488: ('lncrna', 1488), 1489: ('lncrna', 1489), 1490: ('lncrna', 1490), 1491: ('lncrna', 1491), 1492: ('lncrna', 1492), 1493: ('lncrna', 1493), 1494: ('lncrna', 1494), 1495: ('lncrna', 1495), 1496: ('lncrna', 1496), 1497: ('lncrna', 1497), 1498: ('lncrna', 1498), 1499: ('lncrna', 1499), 1500: ('mirna', 0), 1501: ('mirna', 1), 1502: ('mirna', 2), 1503: ('mirna', 3), 1504: ('mirna', 4), 1505: ('mirna', 5), 1506: ('mirna', 6), 1507: ('mirna', 7), 1508: ('mirna', 8), 1509: ('mirna', 9), 1510: ('mirna', 10), 1511: ('mirna', 11), 1512: ('mirna', 12), 1513: ('mirna', 13), 1514: ('mirna', 14), 1515: ('mirna', 15), 1516: ('mirna', 16), 1517: ('mirna', 17), 1518: ('mirna', 18), 1519: ('mirna', 19), 1520: ('mirna', 20), 1521: ('mirna', 21), 1522: ('mirna', 22), 1523: ('mirna', 23), 1524: ('mirna', 24), 1525: ('mirna', 25), 1526: ('mirna', 26), 1527: ('mirna', 27), 1528: ('mirna', 28), 1529: ('mirna', 29), 1530: ('mirna', 30), 1531: ('mirna', 31), 1532: ('mirna', 32), 1533: ('mirna', 33), 1534: ('mirna', 34), 1535: ('mirna', 35), 1536: ('mirna', 36), 1537: ('mirna', 37), 1538: ('mirna', 38), 1539: ('mirna', 39), 1540: ('mirna', 40), 1541: ('mirna', 41), 1542: ('mirna', 42), 1543: ('mirna', 43), 1544: ('mirna', 44), 1545: ('mirna', 45), 1546: ('mirna', 46), 1547: ('mirna', 47), 1548: ('mirna', 48), 1549: ('mirna', 49), 1550: ('mirna', 50), 1551: ('mirna', 51), 1552: ('mirna', 52), 1553: ('mirna', 53), 1554: ('mirna', 54), 1555: ('mirna', 55), 1556: ('mirna', 56), 1557: ('mirna', 57), 1558: ('mirna', 58), 1559: ('mirna', 59), 1560: ('mirna', 60), 1561: ('mirna', 61), 1562: ('mirna', 62), 1563: ('mirna', 63), 1564: ('mirna', 64), 1565: ('mirna', 65), 1566: ('mirna', 66), 1567: ('mirna', 67), 1568: ('mirna', 68), 1569: ('mirna', 69), 1570: ('mirna', 70), 1571: ('mirna', 71), 1572: ('mirna', 72), 1573: ('mirna', 73), 1574: ('mirna', 74), 1575: ('mirna', 75), 1576: ('mirna', 76), 1577: ('mirna', 77), 1578: ('mirna', 78), 1579: ('mirna', 79), 1580: ('mirna', 80), 1581: ('mirna', 81), 1582: ('mirna', 82), 1583: ('mirna', 83), 1584: ('mirna', 84), 1585: ('mirna', 85), 1586: ('mirna', 86), 1587: ('mirna', 87), 1588: ('mirna', 88), 1589: ('mirna', 89), 1590: ('mirna', 90), 1591: ('mirna', 91), 1592: ('mirna', 92), 1593: ('mirna', 93), 1594: ('mirna', 94), 1595: ('mirna', 95), 1596: ('mirna', 96), 1597: ('mirna', 97), 1598: ('mirna', 98), 1599: ('mirna', 99), 1600: ('mirna', 100), 1601: ('mirna', 101), 1602: ('mirna', 102), 1603: ('mirna', 103), 1604: ('mirna', 104), 1605: ('mirna', 105), 1606: ('mirna', 106), 1607: ('mirna', 107), 1608: ('mirna', 108), 1609: ('mirna', 109), 1610: ('mirna', 110), 1611: ('mirna', 111), 1612: ('mirna', 112), 1613: ('mirna', 113), 1614: ('mirna', 114), 1615: ('mirna', 115), 1616: ('mirna', 116), 1617: ('mirna', 117), 1618: ('mirna', 118), 1619: ('mirna', 119), 1620: ('mirna', 120), 1621: ('mirna', 121), 1622: ('mirna', 122), 1623: ('mirna', 123), 1624: ('mirna', 124), 1625: ('mirna', 125), 1626: ('mirna', 126), 1627: ('mirna', 127), 1628: ('mirna', 128), 1629: ('mirna', 129), 1630: ('mirna', 130), 1631: ('mirna', 131), 1632: ('mirna', 132), 1633: ('mirna', 133), 1634: ('mirna', 134), 1635: ('mirna', 135), 1636: ('mirna', 136), 1637: ('mirna', 137), 1638: ('mirna', 138), 1639: ('mirna', 139), 1640: ('mirna', 140), 1641: ('mirna', 141), 1642: ('mirna', 142), 1643: ('mirna', 143), 1644: ('mirna', 144), 1645: ('mirna', 145), 1646: ('mirna', 146), 1647: ('mirna', 147), 1648: ('mirna', 148), 1649: ('mirna', 149), 1650: ('mirna', 150), 1651: ('mirna', 151), 1652: ('mirna', 152), 1653: ('mirna', 153), 1654: ('mirna', 154), 1655: ('mirna', 155), 1656: ('mirna', 156), 1657: ('mirna', 157), 1658: ('mirna', 158), 1659: ('mirna', 159), 1660: ('mirna', 160), 1661: ('mirna', 161), 1662: ('mirna', 162), 1663: ('mirna', 163), 1664: ('mirna', 164), 1665: ('mirna', 165), 1666: ('mirna', 166), 1667: ('mirna', 167), 1668: ('mrna', 0), 1669: ('mrna', 1), 1670: ('mrna', 2), 1671: ('mrna', 3), 1672: ('mrna', 4), 1673: ('mrna', 5), 1674: ('mrna', 6), 1675: ('mrna', 7), 1676: ('mrna', 8), 1677: ('mrna', 9), 1678: ('mrna', 10), 1679: ('mrna', 11), 1680: ('mrna', 12), 1681: ('mrna', 13), 1682: ('mrna', 14), 1683: ('mrna', 15), 1684: ('mrna', 16), 1685: ('mrna', 17), 1686: ('mrna', 18), 1687: ('mrna', 19), 1688: ('mrna', 20), 1689: ('mrna', 21), 1690: ('mrna', 22), 1691: ('mrna', 23), 1692: ('mrna', 24), 1693: ('mrna', 25), 1694: ('mrna', 26), 1695: ('mrna', 27), 1696: ('mrna', 28), 1697: ('mrna', 29), 1698: ('mrna', 30), 1699: ('mrna', 31), 1700: ('mrna', 32), 1701: ('mrna', 33), 1702: ('mrna', 34), 1703: ('mrna', 35), 1704: ('mrna', 36), 1705: ('mrna', 37), 1706: ('mrna', 38), 1707: ('mrna', 39), 1708: ('mrna', 40), 1709: ('mrna', 41), 1710: ('mrna', 42), 1711: ('mrna', 43), 1712: ('mrna', 44), 1713: ('mrna', 45), 1714: ('mrna', 46), 1715: ('mrna', 47), 1716: ('mrna', 48), 1717: ('mrna', 49), 1718: ('mrna', 50), 1719: ('mrna', 51), 1720: ('mrna', 52), 1721: ('mrna', 53), 1722: ('mrna', 54), 1723: ('mrna', 55), 1724: ('mrna', 56), 1725: ('mrna', 57), 1726: ('mrna', 58), 1727: ('mrna', 59), 1728: ('mrna', 60), 1729: ('mrna', 61), 1730: ('mrna', 62), 1731: ('mrna', 63), 1732: ('mrna', 64), 1733: ('mrna', 65), 1734: ('mrna', 66), 1735: ('mrna', 67), 1736: ('mrna', 68), 1737: ('mrna', 69), 1738: ('mrna', 70), 1739: ('mrna', 71), 1740: ('mrna', 72), 1741: ('mrna', 73), 1742: ('mrna', 74), 1743: ('mrna', 75), 1744: ('mrna', 76), 1745: ('mrna', 77), 1746: ('mrna', 78), 1747: ('mrna', 79), 1748: ('mrna', 80), 1749: ('mrna', 81), 1750: ('mrna', 82), 1751: ('mrna', 83), 1752: ('mrna', 84), 1753: ('mrna', 85), 1754: ('mrna', 86), 1755: ('mrna', 87), 1756: ('mrna', 88), 1757: ('mrna', 89), 1758: ('mrna', 90), 1759: ('mrna', 91), 1760: ('mrna', 92), 1761: ('mrna', 93), 1762: ('mrna', 94), 1763: ('mrna', 95), 1764: ('mrna', 96), 1765: ('mrna', 97), 1766: ('mrna', 98), 1767: ('mrna', 99), 1768: ('mrna', 100), 1769: ('mrna', 101), 1770: ('mrna', 102), 1771: ('mrna', 103), 1772: ('mrna', 104), 1773: ('mrna', 105), 1774: ('mrna', 106), 1775: ('mrna', 107), 1776: ('mrna', 108), 1777: ('mrna', 109), 1778: ('mrna', 110), 1779: ('mrna', 111), 1780: ('mrna', 112), 1781: ('mrna', 113), 1782: ('mrna', 114), 1783: ('mrna', 115), 1784: ('mrna', 116), 1785: ('mrna', 117), 1786: ('mrna', 118), 1787: ('mrna', 119), 1788: ('mrna', 120), 1789: ('mrna', 121), 1790: ('mrna', 122), 1791: ('mrna', 123), 1792: ('mrna', 124), 1793: ('mrna', 125), 1794: ('mrna', 126), 1795: ('mrna', 127), 1796: ('mrna', 128), 1797: ('mrna', 129), 1798: ('mrna', 130), 1799: ('mrna', 131), 1800: ('mrna', 132), 1801: ('mrna', 133), 1802: ('mrna', 134), 1803: ('mrna', 135), 1804: ('mrna', 136), 1805: ('mrna', 137), 1806: ('mrna', 138), 1807: ('mrna', 139), 1808: ('mrna', 140), 1809: ('mrna', 141), 1810: ('mrna', 142), 1811: ('mrna', 143), 1812: ('mrna', 144), 1813: ('mrna', 145), 1814: ('mrna', 146), 1815: ('mrna', 147), 1816: ('mrna', 148), 1817: ('mrna', 149), 1818: ('mrna', 150), 1819: ('mrna', 151), 1820: ('mrna', 152), 1821: ('mrna', 153), 1822: ('mrna', 154), 1823: ('mrna', 155), 1824: ('mrna', 156), 1825: ('mrna', 157), 1826: ('mrna', 158), 1827: ('mrna', 159), 1828: ('mrna', 160), 1829: ('mrna', 161), 1830: ('mrna', 162), 1831: ('mrna', 163), 1832: ('mrna', 164), 1833: ('mrna', 165), 1834: ('mrna', 166), 1835: ('mrna', 167), 1836: ('mrna', 168), 1837: ('mrna', 169), 1838: ('mrna', 170), 1839: ('mrna', 171), 1840: ('mrna', 172), 1841: ('mrna', 173), 1842: ('mrna', 174), 1843: ('mrna', 175), 1844: ('mrna', 176), 1845: ('mrna', 177), 1846: ('mrna', 178), 1847: ('mrna', 179), 1848: ('mrna', 180), 1849: ('mrna', 181), 1850: ('mrna', 182), 1851: ('mrna', 183), 1852: ('mrna', 184), 1853: ('mrna', 185), 1854: ('mrna', 186), 1855: ('mrna', 187), 1856: ('mrna', 188), 1857: ('mrna', 189), 1858: ('mrna', 190), 1859: ('mrna', 191), 1860: ('mrna', 192), 1861: ('mrna', 193), 1862: ('mrna', 194), 1863: ('mrna', 195), 1864: ('mrna', 196), 1865: ('mrna', 197), 1866: ('mrna', 198), 1867: ('mrna', 199), 1868: ('mrna', 200), 1869: ('mrna', 201), 1870: ('mrna', 202), 1871: ('mrna', 203), 1872: ('mrna', 204), 1873: ('mrna', 205), 1874: ('mrna', 206), 1875: ('mrna', 207), 1876: ('mrna', 208), 1877: ('mrna', 209), 1878: ('mrna', 210), 1879: ('mrna', 211), 1880: ('mrna', 212), 1881: ('mrna', 213), 1882: ('mrna', 214), 1883: ('mrna', 215), 1884: ('mrna', 216), 1885: ('mrna', 217), 1886: ('mrna', 218), 1887: ('mrna', 219), 1888: ('mrna', 220), 1889: ('mrna', 221), 1890: ('mrna', 222), 1891: ('mrna', 223), 1892: ('mrna', 224), 1893: ('mrna', 225), 1894: ('mrna', 226), 1895: ('mrna', 227), 1896: ('mrna', 228), 1897: ('mrna', 229), 1898: ('mrna', 230), 1899: ('mrna', 231), 1900: ('mrna', 232), 1901: ('mrna', 233), 1902: ('mrna', 234), 1903: ('mrna', 235), 1904: ('mrna', 236), 1905: ('mrna', 237), 1906: ('mrna', 238), 1907: ('mrna', 239), 1908: ('mrna', 240), 1909: ('mrna', 241), 1910: ('mrna', 242), 1911: ('mrna', 243), 1912: ('mrna', 244), 1913: ('mrna', 245), 1914: ('mrna', 246), 1915: ('mrna', 247), 1916: ('mrna', 248), 1917: ('mrna', 249), 1918: ('mrna', 250), 1919: ('mrna', 251), 1920: ('mrna', 252), 1921: ('mrna', 253), 1922: ('mrna', 254), 1923: ('mrna', 255), 1924: ('mrna', 256), 1925: ('mrna', 257), 1926: ('mrna', 258), 1927: ('mrna', 259), 1928: ('mrna', 260), 1929: ('mrna', 261), 1930: ('mrna', 262), 1931: ('mrna', 263), 1932: ('mrna', 264), 1933: ('mrna', 265), 1934: ('mrna', 266), 1935: ('mrna', 267), 1936: ('mrna', 268), 1937: ('mrna', 269), 1938: ('mrna', 270), 1939: ('mrna', 271), 1940: ('mrna', 272), 1941: ('mrna', 273), 1942: ('mrna', 274), 1943: ('mrna', 275), 1944: ('mrna', 276), 1945: ('mrna', 277), 1946: ('mrna', 278), 1947: ('mrna', 279), 1948: ('mrna', 280), 1949: ('mrna', 281), 1950: ('mrna', 282), 1951: ('mrna', 283), 1952: ('mrna', 284), 1953: ('mrna', 285), 1954: ('mrna', 286), 1955: ('mrna', 287), 1956: ('mrna', 288), 1957: ('mrna', 289), 1958: ('mrna', 290), 1959: ('mrna', 291), 1960: ('mrna', 292), 1961: ('mrna', 293), 1962: ('mrna', 294), 1963: ('mrna', 295), 1964: ('mrna', 296), 1965: ('mrna', 297), 1966: ('mrna', 298), 1967: ('mrna', 299), 1968: ('mrna', 300), 1969: ('mrna', 301), 1970: ('mrna', 302), 1971: ('mrna', 303), 1972: ('mrna', 304), 1973: ('mrna', 305), 1974: ('mrna', 306), 1975: ('mrna', 307), 1976: ('mrna', 308), 1977: ('mrna', 309), 1978: ('mrna', 310), 1979: ('mrna', 311), 1980: ('mrna', 312), 1981: ('mrna', 313), 1982: ('mrna', 314), 1983: ('mrna', 315), 1984: ('mrna', 316), 1985: ('mrna', 317), 1986: ('mrna', 318), 1987: ('mrna', 319), 1988: ('mrna', 320), 1989: ('mrna', 321), 1990: ('mrna', 322), 1991: ('mrna', 323), 1992: ('mrna', 324), 1993: ('mrna', 325), 1994: ('mrna', 326), 1995: ('mrna', 327), 1996: ('mrna', 328), 1997: ('mrna', 329), 1998: ('mrna', 330), 1999: ('mrna', 331), 2000: ('mrna', 332), 2001: ('mrna', 333), 2002: ('mrna', 334), 2003: ('mrna', 335), 2004: ('mrna', 336), 2005: ('mrna', 337), 2006: ('mrna', 338), 2007: ('mrna', 339), 2008: ('mrna', 340), 2009: ('mrna', 341), 2010: ('mrna', 342), 2011: ('mrna', 343), 2012: ('mrna', 344), 2013: ('mrna', 345), 2014: ('mrna', 346), 2015: ('mrna', 347), 2016: ('mrna', 348), 2017: ('mrna', 349), 2018: ('mrna', 350), 2019: ('mrna', 351), 2020: ('mrna', 352), 2021: ('mrna', 353), 2022: ('mrna', 354), 2023: ('mrna', 355), 2024: ('mrna', 356), 2025: ('mrna', 357), 2026: ('mrna', 358), 2027: ('mrna', 359), 2028: ('mrna', 360), 2029: ('mrna', 361), 2030: ('mrna', 362), 2031: ('mrna', 363), 2032: ('mrna', 364), 2033: ('mrna', 365), 2034: ('mrna', 366), 2035: ('mrna', 367), 2036: ('mrna', 368), 2037: ('mrna', 369), 2038: ('mrna', 370), 2039: ('mrna', 371), 2040: ('mrna', 372), 2041: ('mrna', 373), 2042: ('mrna', 374), 2043: ('mrna', 375), 2044: ('mrna', 376), 2045: ('mrna', 377), 2046: ('mrna', 378), 2047: ('mrna', 379), 2048: ('mrna', 380), 2049: ('mrna', 381), 2050: ('mrna', 382), 2051: ('mrna', 383), 2052: ('mrna', 384), 2053: ('mrna', 385), 2054: ('mrna', 386), 2055: ('mrna', 387), 2056: ('mrna', 388), 2057: ('mrna', 389), 2058: ('mrna', 390), 2059: ('mrna', 391), 2060: ('mrna', 392), 2061: ('mrna', 393), 2062: ('mrna', 394), 2063: ('mrna', 395), 2064: ('mrna', 396), 2065: ('mrna', 397), 2066: ('mrna', 398), 2067: ('mrna', 399), 2068: ('mrna', 400), 2069: ('mrna', 401), 2070: ('mrna', 402), 2071: ('mrna', 403), 2072: ('mrna', 404), 2073: ('mrna', 405), 2074: ('mrna', 406), 2075: ('mrna', 407), 2076: ('mrna', 408), 2077: ('mrna', 409), 2078: ('mrna', 410), 2079: ('mrna', 411), 2080: ('mrna', 412), 2081: ('mrna', 413), 2082: ('mrna', 414), 2083: ('mrna', 415), 2084: ('mrna', 416), 2085: ('mrna', 417), 2086: ('mrna', 418), 2087: ('mrna', 419), 2088: ('mrna', 420), 2089: ('mrna', 421), 2090: ('mrna', 422), 2091: ('mrna', 423), 2092: ('mrna', 424), 2093: ('mrna', 425), 2094: ('mrna', 426), 2095: ('mrna', 427), 2096: ('mrna', 428), 2097: ('mrna', 429), 2098: ('mrna', 430), 2099: ('mrna', 431), 2100: ('mrna', 432), 2101: ('mrna', 433), 2102: ('mrna', 434), 2103: ('mrna', 435), 2104: ('mrna', 436), 2105: ('mrna', 437), 2106: ('mrna', 438), 2107: ('mrna', 439), 2108: ('mrna', 440), 2109: ('mrna', 441), 2110: ('mrna', 442), 2111: ('mrna', 443), 2112: ('mrna', 444), 2113: ('mrna', 445), 2114: ('mrna', 446), 2115: ('mrna', 447), 2116: ('mrna', 448), 2117: ('mrna', 449), 2118: ('mrna', 450), 2119: ('mrna', 451), 2120: ('mrna', 452), 2121: ('mrna', 453), 2122: ('mrna', 454), 2123: ('mrna', 455), 2124: ('mrna', 456), 2125: ('mrna', 457), 2126: ('mrna', 458), 2127: ('mrna', 459), 2128: ('mrna', 460), 2129: ('mrna', 461), 2130: ('mrna', 462), 2131: ('mrna', 463), 2132: ('mrna', 464), 2133: ('mrna', 465), 2134: ('mrna', 466), 2135: ('mrna', 467), 2136: ('mrna', 468), 2137: ('mrna', 469), 2138: ('mrna', 470), 2139: ('mrna', 471), 2140: ('mrna', 472), 2141: ('mrna', 473), 2142: ('mrna', 474), 2143: ('mrna', 475), 2144: ('mrna', 476), 2145: ('mrna', 477), 2146: ('mrna', 478), 2147: ('mrna', 479), 2148: ('mrna', 480), 2149: ('mrna', 481), 2150: ('mrna', 482), 2151: ('mrna', 483), 2152: ('mrna', 484), 2153: ('mrna', 485), 2154: ('mrna', 486), 2155: ('mrna', 487), 2156: ('mrna', 488), 2157: ('mrna', 489), 2158: ('mrna', 490), 2159: ('mrna', 491), 2160: ('mrna', 492), 2161: ('mrna', 493), 2162: ('mrna', 494), 2163: ('mrna', 495), 2164: ('mrna', 496), 2165: ('mrna', 497), 2166: ('mrna', 498), 2167: ('mrna', 499), 2168: ('mrna', 500), 2169: ('mrna', 501), 2170: ('mrna', 502), 2171: ('mrna', 503), 2172: ('mrna', 504), 2173: ('mrna', 505), 2174: ('mrna', 506), 2175: ('mrna', 507), 2176: ('mrna', 508), 2177: ('mrna', 509), 2178: ('mrna', 510), 2179: ('mrna', 511), 2180: ('mrna', 512), 2181: ('mrna', 513), 2182: ('mrna', 514), 2183: ('mrna', 515), 2184: ('mrna', 516), 2185: ('mrna', 517), 2186: ('mrna', 518), 2187: ('mrna', 519), 2188: ('mrna', 520), 2189: ('mrna', 521), 2190: ('mrna', 522), 2191: ('mrna', 523), 2192: ('mrna', 524), 2193: ('mrna', 525), 2194: ('mrna', 526), 2195: ('mrna', 527), 2196: ('mrna', 528), 2197: ('mrna', 529), 2198: ('mrna', 530), 2199: ('mrna', 531), 2200: ('mrna', 532), 2201: ('mrna', 533), 2202: ('mrna', 534), 2203: ('mrna', 535), 2204: ('mrna', 536), 2205: ('mrna', 537), 2206: ('mrna', 538), 2207: ('mrna', 539), 2208: ('mrna', 540), 2209: ('mrna', 541), 2210: ('mrna', 542), 2211: ('mrna', 543), 2212: ('mrna', 544), 2213: ('mrna', 545), 2214: ('mrna', 546), 2215: ('mrna', 547), 2216: ('mrna', 548), 2217: ('mrna', 549), 2218: ('mrna', 550), 2219: ('mrna', 551), 2220: ('mrna', 552), 2221: ('mrna', 553), 2222: ('mrna', 554), 2223: ('mrna', 555), 2224: ('mrna', 556), 2225: ('mrna', 557), 2226: ('mrna', 558), 2227: ('mrna', 559), 2228: ('mrna', 560), 2229: ('mrna', 561), 2230: ('mrna', 562), 2231: ('mrna', 563), 2232: ('mrna', 564), 2233: ('mrna', 565), 2234: ('mrna', 566), 2235: ('mrna', 567), 2236: ('mrna', 568), 2237: ('mrna', 569), 2238: ('mrna', 570), 2239: ('mrna', 571), 2240: ('mrna', 572), 2241: ('mrna', 573), 2242: ('mrna', 574), 2243: ('mrna', 575), 2244: ('mrna', 576), 2245: ('mrna', 577), 2246: ('mrna', 578), 2247: ('mrna', 579), 2248: ('mrna', 580), 2249: ('mrna', 581), 2250: ('mrna', 582), 2251: ('mrna', 583), 2252: ('mrna', 584), 2253: ('mrna', 585), 2254: ('mrna', 586), 2255: ('mrna', 587), 2256: ('mrna', 588), 2257: ('mrna', 589), 2258: ('mrna', 590), 2259: ('mrna', 591), 2260: ('mrna', 592), 2261: ('mrna', 593), 2262: ('mrna', 594), 2263: ('mrna', 595), 2264: ('mrna', 596), 2265: ('mrna', 597), 2266: ('mrna', 598), 2267: ('mrna', 599), 2268: ('mrna', 600), 2269: ('mrna', 601), 2270: ('mrna', 602), 2271: ('mrna', 603), 2272: ('mrna', 604), 2273: ('mrna', 605), 2274: ('mrna', 606), 2275: ('mrna', 607), 2276: ('mrna', 608), 2277: ('mrna', 609), 2278: ('mrna', 610), 2279: ('mrna', 611), 2280: ('mrna', 612), 2281: ('mrna', 613), 2282: ('mrna', 614), 2283: ('mrna', 615), 2284: ('mrna', 616), 2285: ('mrna', 617), 2286: ('mrna', 618), 2287: ('mrna', 619), 2288: ('mrna', 620), 2289: ('mrna', 621), 2290: ('mrna', 622), 2291: ('mrna', 623), 2292: ('mrna', 624), 2293: ('mrna', 625), 2294: ('mrna', 626), 2295: ('mrna', 627), 2296: ('mrna', 628), 2297: ('mrna', 629), 2298: ('mrna', 630), 2299: ('mrna', 631), 2300: ('mrna', 632), 2301: ('mrna', 633), 2302: ('mrna', 634), 2303: ('mrna', 635), 2304: ('mrna', 636), 2305: ('mrna', 637), 2306: ('mrna', 638), 2307: ('mrna', 639), 2308: ('mrna', 640), 2309: ('mrna', 641), 2310: ('mrna', 642), 2311: ('mrna', 643), 2312: ('mrna', 644), 2313: ('mrna', 645), 2314: ('mrna', 646), 2315: ('mrna', 647), 2316: ('mrna', 648), 2317: ('mrna', 649), 2318: ('mrna', 650), 2319: ('mrna', 651), 2320: ('mrna', 652), 2321: ('mrna', 653), 2322: ('mrna', 654), 2323: ('mrna', 655), 2324: ('mrna', 656), 2325: ('mrna', 657), 2326: ('mrna', 658), 2327: ('mrna', 659), 2328: ('mrna', 660), 2329: ('mrna', 661), 2330: ('mrna', 662), 2331: ('mrna', 663), 2332: ('mrna', 664), 2333: ('mrna', 665), 2334: ('mrna', 666), 2335: ('mrna', 667), 2336: ('mrna', 668), 2337: ('mrna', 669), 2338: ('mrna', 670), 2339: ('mrna', 671), 2340: ('mrna', 672), 2341: ('mrna', 673), 2342: ('mrna', 674), 2343: ('mrna', 675), 2344: ('mrna', 676), 2345: ('mrna', 677), 2346: ('mrna', 678), 2347: ('mrna', 679), 2348: ('mrna', 680), 2349: ('mrna', 681), 2350: ('mrna', 682), 2351: ('mrna', 683), 2352: ('mrna', 684), 2353: ('mrna', 685), 2354: ('mrna', 686), 2355: ('mrna', 687), 2356: ('mrna', 688), 2357: ('mrna', 689), 2358: ('mrna', 690), 2359: ('mrna', 691), 2360: ('mrna', 692), 2361: ('mrna', 693), 2362: ('mrna', 694), 2363: ('mrna', 695), 2364: ('mrna', 696), 2365: ('mrna', 697), 2366: ('mrna', 698), 2367: ('mrna', 699), 2368: ('mrna', 700), 2369: ('mrna', 701), 2370: ('mrna', 702), 2371: ('mrna', 703), 2372: ('mrna', 704), 2373: ('mrna', 705), 2374: ('mrna', 706), 2375: ('mrna', 707), 2376: ('mrna', 708), 2377: ('mrna', 709), 2378: ('mrna', 710), 2379: ('mrna', 711), 2380: ('mrna', 712), 2381: ('mrna', 713), 2382: ('mrna', 714), 2383: ('mrna', 715), 2384: ('mrna', 716), 2385: ('mrna', 717), 2386: ('mrna', 718), 2387: ('mrna', 719), 2388: ('mrna', 720), 2389: ('mrna', 721), 2390: ('mrna', 722), 2391: ('mrna', 723), 2392: ('mrna', 724), 2393: ('mrna', 725), 2394: ('mrna', 726), 2395: ('mrna', 727), 2396: ('mrna', 728), 2397: ('mrna', 729), 2398: ('mrna', 730), 2399: ('mrna', 731), 2400: ('mrna', 732), 2401: ('mrna', 733), 2402: ('mrna', 734), 2403: ('mrna', 735), 2404: ('mrna', 736), 2405: ('mrna', 737), 2406: ('mrna', 738), 2407: ('mrna', 739), 2408: ('mrna', 740), 2409: ('mrna', 741), 2410: ('mrna', 742), 2411: ('mrna', 743), 2412: ('mrna', 744), 2413: ('mrna', 745), 2414: ('mrna', 746), 2415: ('mrna', 747), 2416: ('mrna', 748), 2417: ('mrna', 749), 2418: ('mrna', 750), 2419: ('mrna', 751), 2420: ('mrna', 752), 2421: ('mrna', 753), 2422: ('mrna', 754), 2423: ('mrna', 755), 2424: ('mrna', 756), 2425: ('mrna', 757), 2426: ('mrna', 758), 2427: ('mrna', 759), 2428: ('mrna', 760), 2429: ('mrna', 761), 2430: ('mrna', 762), 2431: ('mrna', 763), 2432: ('mrna', 764), 2433: ('mrna', 765), 2434: ('mrna', 766), 2435: ('mrna', 767), 2436: ('mrna', 768), 2437: ('mrna', 769), 2438: ('mrna', 770), 2439: ('mrna', 771), 2440: ('mrna', 772), 2441: ('mrna', 773), 2442: ('mrna', 774), 2443: ('mrna', 775), 2444: ('mrna', 776), 2445: ('mrna', 777), 2446: ('mrna', 778), 2447: ('mrna', 779), 2448: ('mrna', 780), 2449: ('mrna', 781), 2450: ('mrna', 782), 2451: ('mrna', 783), 2452: ('mrna', 784), 2453: ('mrna', 785), 2454: ('mrna', 786), 2455: ('mrna', 787), 2456: ('mrna', 788), 2457: ('mrna', 789), 2458: ('mrna', 790), 2459: ('mrna', 791), 2460: ('mrna', 792), 2461: ('mrna', 793), 2462: ('mrna', 794), 2463: ('mrna', 795), 2464: ('mrna', 796), 2465: ('mrna', 797), 2466: ('mrna', 798), 2467: ('mrna', 799), 2468: ('mrna', 800), 2469: ('mrna', 801), 2470: ('mrna', 802), 2471: ('mrna', 803), 2472: ('mrna', 804), 2473: ('mrna', 805), 2474: ('mrna', 806), 2475: ('mrna', 807), 2476: ('mrna', 808), 2477: ('mrna', 809), 2478: ('mrna', 810), 2479: ('mrna', 811), 2480: ('mrna', 812), 2481: ('mrna', 813), 2482: ('mrna', 814), 2483: ('mrna', 815), 2484: ('mrna', 816), 2485: ('mrna', 817), 2486: ('mrna', 818), 2487: ('mrna', 819), 2488: ('mrna', 820), 2489: ('mrna', 821), 2490: ('mrna', 822), 2491: ('mrna', 823), 2492: ('mrna', 824), 2493: ('mrna', 825), 2494: ('mrna', 826), 2495: ('mrna', 827), 2496: ('mrna', 828), 2497: ('mrna', 829), 2498: ('mrna', 830), 2499: ('mrna', 831), 2500: ('mrna', 832), 2501: ('mrna', 833), 2502: ('mrna', 834), 2503: ('mrna', 835), 2504: ('mrna', 836), 2505: ('mrna', 837), 2506: ('mrna', 838), 2507: ('mrna', 839), 2508: ('mrna', 840), 2509: ('mrna', 841), 2510: ('mrna', 842), 2511: ('mrna', 843), 2512: ('mrna', 844), 2513: ('mrna', 845), 2514: ('mrna', 846), 2515: ('mrna', 847), 2516: ('mrna', 848), 2517: ('mrna', 849), 2518: ('mrna', 850), 2519: ('mrna', 851), 2520: ('mrna', 852), 2521: ('mrna', 853), 2522: ('mrna', 854), 2523: ('mrna', 855), 2524: ('mrna', 856), 2525: ('mrna', 857), 2526: ('mrna', 858), 2527: ('mrna', 859), 2528: ('mrna', 860), 2529: ('mrna', 861), 2530: ('mrna', 862), 2531: ('mrna', 863), 2532: ('mrna', 864), 2533: ('mrna', 865), 2534: ('mrna', 866), 2535: ('mrna', 867), 2536: ('mrna', 868), 2537: ('mrna', 869), 2538: ('mrna', 870), 2539: ('mrna', 871), 2540: ('mrna', 872), 2541: ('mrna', 873), 2542: ('mrna', 874), 2543: ('mrna', 875), 2544: ('mrna', 876), 2545: ('mrna', 877), 2546: ('mrna', 878), 2547: ('mrna', 879), 2548: ('mrna', 880), 2549: ('mrna', 881), 2550: ('mrna', 882), 2551: ('mrna', 883), 2552: ('mrna', 884), 2553: ('mrna', 885), 2554: ('mrna', 886), 2555: ('mrna', 887), 2556: ('mrna', 888), 2557: ('mrna', 889), 2558: ('mrna', 890), 2559: ('mrna', 891), 2560: ('mrna', 892), 2561: ('mrna', 893), 2562: ('mrna', 894), 2563: ('mrna', 895), 2564: ('mrna', 896), 2565: ('mrna', 897), 2566: ('mrna', 898), 2567: ('mrna', 899), 2568: ('mrna', 900), 2569: ('mrna', 901), 2570: ('mrna', 902), 2571: ('mrna', 903), 2572: ('mrna', 904), 2573: ('mrna', 905), 2574: ('mrna', 906), 2575: ('mrna', 907), 2576: ('mrna', 908), 2577: ('mrna', 909), 2578: ('mrna', 910), 2579: ('mrna', 911), 2580: ('mrna', 912), 2581: ('mrna', 913), 2582: ('mrna', 914), 2583: ('mrna', 915), 2584: ('mrna', 916), 2585: ('mrna', 917), 2586: ('mrna', 918), 2587: ('mrna', 919), 2588: ('mrna', 920), 2589: ('mrna', 921), 2590: ('mrna', 922), 2591: ('mrna', 923), 2592: ('mrna', 924), 2593: ('mrna', 925), 2594: ('mrna', 926), 2595: ('mrna', 927), 2596: ('mrna', 928), 2597: ('mrna', 929), 2598: ('mrna', 930), 2599: ('mrna', 931), 2600: ('mrna', 932), 2601: ('mrna', 933), 2602: ('mrna', 934), 2603: ('mrna', 935), 2604: ('mrna', 936), 2605: ('mrna', 937), 2606: ('mrna', 938), 2607: ('mrna', 939), 2608: ('mrna', 940), 2609: ('mrna', 941), 2610: ('mrna', 942), 2611: ('mrna', 943), 2612: ('mrna', 944), 2613: ('mrna', 945), 2614: ('mrna', 946), 2615: ('mrna', 947), 2616: ('mrna', 948), 2617: ('mrna', 949), 2618: ('mrna', 950), 2619: ('mrna', 951), 2620: ('mrna', 952), 2621: ('mrna', 953), 2622: ('mrna', 954), 2623: ('mrna', 955), 2624: ('mrna', 956), 2625: ('mrna', 957), 2626: ('mrna', 958), 2627: ('mrna', 959), 2628: ('mrna', 960), 2629: ('mrna', 961), 2630: ('mrna', 962), 2631: ('mrna', 963), 2632: ('mrna', 964), 2633: ('mrna', 965), 2634: ('mrna', 966), 2635: ('mrna', 967), 2636: ('mrna', 968), 2637: ('mrna', 969), 2638: ('mrna', 970), 2639: ('mrna', 971), 2640: ('mrna', 972), 2641: ('mrna', 973), 2642: ('mrna', 974), 2643: ('mrna', 975), 2644: ('mrna', 976), 2645: ('mrna', 977), 2646: ('mrna', 978), 2647: ('mrna', 979), 2648: ('mrna', 980), 2649: ('mrna', 981), 2650: ('mrna', 982), 2651: ('mrna', 983), 2652: ('mrna', 984), 2653: ('mrna', 985), 2654: ('mrna', 986), 2655: ('mrna', 987), 2656: ('mrna', 988), 2657: ('mrna', 989), 2658: ('mrna', 990), 2659: ('mrna', 991), 2660: ('mrna', 992), 2661: ('mrna', 993), 2662: ('mrna', 994), 2663: ('mrna', 995), 2664: ('mrna', 996), 2665: ('mrna', 997), 2666: ('mrna', 998), 2667: ('mrna', 999), 2668: ('mrna', 1000), 2669: ('mrna', 1001), 2670: ('mrna', 1002), 2671: ('mrna', 1003), 2672: ('mrna', 1004), 2673: ('mrna', 1005), 2674: ('mrna', 1006), 2675: ('mrna', 1007), 2676: ('mrna', 1008), 2677: ('mrna', 1009), 2678: ('mrna', 1010), 2679: ('mrna', 1011), 2680: ('mrna', 1012), 2681: ('mrna', 1013), 2682: ('mrna', 1014), 2683: ('mrna', 1015), 2684: ('mrna', 1016), 2685: ('mrna', 1017), 2686: ('mrna', 1018), 2687: ('mrna', 1019), 2688: ('mrna', 1020), 2689: ('mrna', 1021), 2690: ('mrna', 1022), 2691: ('mrna', 1023), 2692: ('mrna', 1024), 2693: ('mrna', 1025), 2694: ('mrna', 1026), 2695: ('mrna', 1027), 2696: ('mrna', 1028), 2697: ('mrna', 1029), 2698: ('mrna', 1030), 2699: ('mrna', 1031), 2700: ('mrna', 1032), 2701: ('mrna', 1033), 2702: ('mrna', 1034), 2703: ('mrna', 1035), 2704: ('mrna', 1036), 2705: ('mrna', 1037), 2706: ('mrna', 1038), 2707: ('mrna', 1039), 2708: ('mrna', 1040), 2709: ('mrna', 1041), 2710: ('mrna', 1042), 2711: ('mrna', 1043), 2712: ('mrna', 1044), 2713: ('mrna', 1045), 2714: ('mrna', 1046), 2715: ('mrna', 1047), 2716: ('mrna', 1048), 2717: ('mrna', 1049), 2718: ('mrna', 1050), 2719: ('mrna', 1051), 2720: ('mrna', 1052), 2721: ('mrna', 1053), 2722: ('mrna', 1054), 2723: ('mrna', 1055), 2724: ('mrna', 1056), 2725: ('mrna', 1057), 2726: ('mrna', 1058), 2727: ('mrna', 1059), 2728: ('mrna', 1060), 2729: ('mrna', 1061), 2730: ('mrna', 1062), 2731: ('mrna', 1063), 2732: ('mrna', 1064), 2733: ('mrna', 1065), 2734: ('mrna', 1066), 2735: ('mrna', 1067), 2736: ('mrna', 1068), 2737: ('mrna', 1069), 2738: ('mrna', 1070), 2739: ('mrna', 1071), 2740: ('mrna', 1072), 2741: ('mrna', 1073), 2742: ('mrna', 1074), 2743: ('mrna', 1075), 2744: ('mrna', 1076), 2745: ('mrna', 1077), 2746: ('mrna', 1078), 2747: ('mrna', 1079), 2748: ('mrna', 1080), 2749: ('mrna', 1081), 2750: ('mrna', 1082), 2751: ('mrna', 1083), 2752: ('mrna', 1084), 2753: ('mrna', 1085), 2754: ('mrna', 1086), 2755: ('mrna', 1087), 2756: ('mrna', 1088), 2757: ('mrna', 1089), 2758: ('mrna', 1090), 2759: ('mrna', 1091), 2760: ('mrna', 1092), 2761: ('mrna', 1093), 2762: ('mrna', 1094), 2763: ('mrna', 1095), 2764: ('mrna', 1096), 2765: ('mrna', 1097), 2766: ('mrna', 1098), 2767: ('mrna', 1099), 2768: ('mrna', 1100), 2769: ('mrna', 1101), 2770: ('mrna', 1102), 2771: ('mrna', 1103), 2772: ('mrna', 1104), 2773: ('mrna', 1105), 2774: ('mrna', 1106), 2775: ('mrna', 1107), 2776: ('mrna', 1108), 2777: ('mrna', 1109), 2778: ('mrna', 1110), 2779: ('mrna', 1111), 2780: ('mrna', 1112), 2781: ('mrna', 1113), 2782: ('mrna', 1114), 2783: ('mrna', 1115), 2784: ('mrna', 1116), 2785: ('mrna', 1117), 2786: ('mrna', 1118), 2787: ('mrna', 1119), 2788: ('mrna', 1120), 2789: ('mrna', 1121), 2790: ('mrna', 1122), 2791: ('mrna', 1123), 2792: ('mrna', 1124), 2793: ('mrna', 1125), 2794: ('mrna', 1126), 2795: ('mrna', 1127), 2796: ('mrna', 1128), 2797: ('mrna', 1129), 2798: ('mrna', 1130), 2799: ('mrna', 1131), 2800: ('mrna', 1132), 2801: ('mrna', 1133), 2802: ('mrna', 1134), 2803: ('mrna', 1135), 2804: ('mrna', 1136), 2805: ('mrna', 1137), 2806: ('mrna', 1138), 2807: ('mrna', 1139), 2808: ('mrna', 1140), 2809: ('mrna', 1141), 2810: ('mrna', 1142), 2811: ('mrna', 1143), 2812: ('mrna', 1144), 2813: ('mrna', 1145), 2814: ('mrna', 1146), 2815: ('mrna', 1147), 2816: ('mrna', 1148), 2817: ('mrna', 1149), 2818: ('mrna', 1150), 2819: ('mrna', 1151), 2820: ('mrna', 1152), 2821: ('mrna', 1153), 2822: ('mrna', 1154), 2823: ('mrna', 1155), 2824: ('mrna', 1156), 2825: ('mrna', 1157), 2826: ('mrna', 1158), 2827: ('mrna', 1159), 2828: ('mrna', 1160), 2829: ('mrna', 1161), 2830: ('mrna', 1162), 2831: ('mrna', 1163), 2832: ('mrna', 1164), 2833: ('mrna', 1165), 2834: ('mrna', 1166), 2835: ('mrna', 1167), 2836: ('mrna', 1168), 2837: ('mrna', 1169), 2838: ('mrna', 1170), 2839: ('mrna', 1171), 2840: ('mrna', 1172), 2841: ('mrna', 1173), 2842: ('mrna', 1174), 2843: ('mrna', 1175), 2844: ('mrna', 1176), 2845: ('mrna', 1177), 2846: ('mrna', 1178), 2847: ('mrna', 1179), 2848: ('mrna', 1180), 2849: ('mrna', 1181), 2850: ('mrna', 1182), 2851: ('mrna', 1183), 2852: ('mrna', 1184), 2853: ('mrna', 1185), 2854: ('mrna', 1186), 2855: ('mrna', 1187), 2856: ('mrna', 1188), 2857: ('mrna', 1189), 2858: ('mrna', 1190), 2859: ('mrna', 1191), 2860: ('mrna', 1192), 2861: ('mrna', 1193), 2862: ('mrna', 1194), 2863: ('mrna', 1195), 2864: ('mrna', 1196), 2865: ('mrna', 1197), 2866: ('mrna', 1198), 2867: ('mrna', 1199), 2868: ('mrna', 1200), 2869: ('mrna', 1201), 2870: ('mrna', 1202), 2871: ('mrna', 1203), 2872: ('mrna', 1204), 2873: ('mrna', 1205), 2874: ('mrna', 1206), 2875: ('mrna', 1207), 2876: ('mrna', 1208), 2877: ('mrna', 1209), 2878: ('mrna', 1210), 2879: ('mrna', 1211), 2880: ('mrna', 1212), 2881: ('mrna', 1213), 2882: ('mrna', 1214), 2883: ('mrna', 1215), 2884: ('mrna', 1216), 2885: ('mrna', 1217), 2886: ('mrna', 1218), 2887: ('mrna', 1219), 2888: ('mrna', 1220), 2889: ('mrna', 1221), 2890: ('mrna', 1222), 2891: ('mrna', 1223), 2892: ('mrna', 1224), 2893: ('mrna', 1225), 2894: ('mrna', 1226), 2895: ('mrna', 1227), 2896: ('mrna', 1228), 2897: ('mrna', 1229), 2898: ('mrna', 1230), 2899: ('mrna', 1231), 2900: ('mrna', 1232), 2901: ('mrna', 1233), 2902: ('mrna', 1234), 2903: ('mrna', 1235), 2904: ('mrna', 1236), 2905: ('mrna', 1237), 2906: ('mrna', 1238), 2907: ('mrna', 1239), 2908: ('mrna', 1240), 2909: ('mrna', 1241), 2910: ('mrna', 1242), 2911: ('mrna', 1243), 2912: ('mrna', 1244), 2913: ('mrna', 1245), 2914: ('mrna', 1246), 2915: ('mrna', 1247), 2916: ('mrna', 1248), 2917: ('mrna', 1249), 2918: ('mrna', 1250), 2919: ('mrna', 1251), 2920: ('mrna', 1252), 2921: ('mrna', 1253), 2922: ('mrna', 1254), 2923: ('mrna', 1255), 2924: ('mrna', 1256), 2925: ('mrna', 1257), 2926: ('mrna', 1258), 2927: ('mrna', 1259), 2928: ('mrna', 1260), 2929: ('mrna', 1261), 2930: ('mrna', 1262), 2931: ('mrna', 1263), 2932: ('mrna', 1264), 2933: ('mrna', 1265), 2934: ('mrna', 1266), 2935: ('mrna', 1267), 2936: ('mrna', 1268), 2937: ('mrna', 1269), 2938: ('mrna', 1270), 2939: ('mrna', 1271), 2940: ('mrna', 1272), 2941: ('mrna', 1273), 2942: ('mrna', 1274), 2943: ('mrna', 1275), 2944: ('mrna', 1276), 2945: ('mrna', 1277), 2946: ('mrna', 1278), 2947: ('mrna', 1279), 2948: ('mrna', 1280), 2949: ('mrna', 1281), 2950: ('mrna', 1282), 2951: ('mrna', 1283), 2952: ('mrna', 1284), 2953: ('mrna', 1285), 2954: ('mrna', 1286), 2955: ('mrna', 1287), 2956: ('mrna', 1288), 2957: ('mrna', 1289), 2958: ('mrna', 1290), 2959: ('mrna', 1291), 2960: ('mrna', 1292), 2961: ('mrna', 1293), 2962: ('mrna', 1294), 2963: ('mrna', 1295), 2964: ('mrna', 1296), 2965: ('mrna', 1297), 2966: ('mrna', 1298), 2967: ('mrna', 1299), 2968: ('mrna', 1300), 2969: ('mrna', 1301), 2970: ('mrna', 1302), 2971: ('mrna', 1303), 2972: ('mrna', 1304), 2973: ('mrna', 1305), 2974: ('mrna', 1306), 2975: ('mrna', 1307), 2976: ('mrna', 1308), 2977: ('mrna', 1309), 2978: ('mrna', 1310), 2979: ('mrna', 1311), 2980: ('mrna', 1312), 2981: ('mrna', 1313), 2982: ('mrna', 1314), 2983: ('mrna', 1315), 2984: ('mrna', 1316), 2985: ('mrna', 1317), 2986: ('mrna', 1318), 2987: ('mrna', 1319), 2988: ('mrna', 1320), 2989: ('mrna', 1321), 2990: ('mrna', 1322), 2991: ('mrna', 1323), 2992: ('mrna', 1324), 2993: ('mrna', 1325), 2994: ('mrna', 1326), 2995: ('mrna', 1327), 2996: ('mrna', 1328), 2997: ('mrna', 1329), 2998: ('mrna', 1330), 2999: ('mrna', 1331), 3000: ('mrna', 1332), 3001: ('mrna', 1333), 3002: ('mrna', 1334), 3003: ('mrna', 1335), 3004: ('mrna', 1336), 3005: ('mrna', 1337), 3006: ('mrna', 1338), 3007: ('mrna', 1339), 3008: ('mrna', 1340), 3009: ('mrna', 1341), 3010: ('mrna', 1342), 3011: ('mrna', 1343), 3012: ('mrna', 1344), 3013: ('mrna', 1345), 3014: ('mrna', 1346), 3015: ('mrna', 1347), 3016: ('mrna', 1348), 3017: ('mrna', 1349), 3018: ('mrna', 1350), 3019: ('mrna', 1351), 3020: ('mrna', 1352), 3021: ('mrna', 1353), 3022: ('mrna', 1354), 3023: ('mrna', 1355), 3024: ('mrna', 1356), 3025: ('mrna', 1357), 3026: ('mrna', 1358), 3027: ('mrna', 1359), 3028: ('mrna', 1360), 3029: ('mrna', 1361), 3030: ('mrna', 1362), 3031: ('mrna', 1363), 3032: ('mrna', 1364), 3033: ('mrna', 1365), 3034: ('mrna', 1366), 3035: ('mrna', 1367), 3036: ('mrna', 1368), 3037: ('mrna', 1369), 3038: ('mrna', 1370), 3039: ('mrna', 1371), 3040: ('mrna', 1372), 3041: ('mrna', 1373), 3042: ('mrna', 1374), 3043: ('mrna', 1375), 3044: ('mrna', 1376), 3045: ('mrna', 1377), 3046: ('mrna', 1378), 3047: ('mrna', 1379), 3048: ('mrna', 1380), 3049: ('mrna', 1381), 3050: ('mrna', 1382), 3051: ('mrna', 1383), 3052: ('mrna', 1384), 3053: ('mrna', 1385), 3054: ('mrna', 1386), 3055: ('mrna', 1387), 3056: ('mrna', 1388), 3057: ('mrna', 1389), 3058: ('mrna', 1390), 3059: ('mrna', 1391), 3060: ('mrna', 1392), 3061: ('mrna', 1393), 3062: ('mrna', 1394), 3063: ('mrna', 1395), 3064: ('mrna', 1396), 3065: ('mrna', 1397), 3066: ('mrna', 1398), 3067: ('mrna', 1399), 3068: ('mrna', 1400), 3069: ('mrna', 1401), 3070: ('mrna', 1402), 3071: ('mrna', 1403), 3072: ('mrna', 1404), 3073: ('mrna', 1405), 3074: ('mrna', 1406), 3075: ('mrna', 1407), 3076: ('mrna', 1408), 3077: ('mrna', 1409), 3078: ('mrna', 1410), 3079: ('mrna', 1411), 3080: ('mrna', 1412), 3081: ('mrna', 1413), 3082: ('mrna', 1414), 3083: ('mrna', 1415), 3084: ('mrna', 1416), 3085: ('mrna', 1417), 3086: ('mrna', 1418), 3087: ('mrna', 1419), 3088: ('mrna', 1420), 3089: ('mrna', 1421), 3090: ('mrna', 1422), 3091: ('mrna', 1423), 3092: ('mrna', 1424), 3093: ('mrna', 1425), 3094: ('mrna', 1426), 3095: ('mrna', 1427), 3096: ('mrna', 1428), 3097: ('mrna', 1429), 3098: ('mrna', 1430), 3099: ('mrna', 1431), 3100: ('mrna', 1432), 3101: ('mrna', 1433), 3102: ('mrna', 1434), 3103: ('mrna', 1435), 3104: ('mrna', 1436), 3105: ('mrna', 1437), 3106: ('mrna', 1438), 3107: ('mrna', 1439), 3108: ('mrna', 1440), 3109: ('mrna', 1441), 3110: ('mrna', 1442), 3111: ('mrna', 1443), 3112: ('mrna', 1444), 3113: ('mrna', 1445), 3114: ('mrna', 1446), 3115: ('mrna', 1447), 3116: ('mrna', 1448), 3117: ('mrna', 1449), 3118: ('mrna', 1450), 3119: ('mrna', 1451), 3120: ('mrna', 1452), 3121: ('mrna', 1453), 3122: ('mrna', 1454), 3123: ('mrna', 1455), 3124: ('mrna', 1456), 3125: ('mrna', 1457), 3126: ('mrna', 1458), 3127: ('mrna', 1459), 3128: ('mrna', 1460), 3129: ('mrna', 1461), 3130: ('mrna', 1462), 3131: ('mrna', 1463), 3132: ('mrna', 1464), 3133: ('mrna', 1465), 3134: ('mrna', 1466), 3135: ('mrna', 1467), 3136: ('mrna', 1468), 3137: ('mrna', 1469), 3138: ('mrna', 1470), 3139: ('mrna', 1471), 3140: ('mrna', 1472), 3141: ('mrna', 1473), 3142: ('mrna', 1474), 3143: ('mrna', 1475), 3144: ('mrna', 1476), 3145: ('mrna', 1477), 3146: ('mrna', 1478), 3147: ('mrna', 1479), 3148: ('mrna', 1480), 3149: ('mrna', 1481), 3150: ('mrna', 1482), 3151: ('mrna', 1483), 3152: ('mrna', 1484), 3153: ('mrna', 1485), 3154: ('mrna', 1486), 3155: ('mrna', 1487), 3156: ('mrna', 1488), 3157: ('mrna', 1489), 3158: ('mrna', 1490), 3159: ('mrna', 1491), 3160: ('mrna', 1492), 3161: ('mrna', 1493), 3162: ('mrna', 1494), 3163: ('mrna', 1495), 3164: ('mrna', 1496), 3165: ('mrna', 1497), 3166: ('mrna', 1498), 3167: ('mrna', 1499), 3168: ('mrna', 1500), 3169: ('mrna', 1501), 3170: ('mrna', 1502), 3171: ('mrna', 1503), 3172: ('mrna', 1504), 3173: ('mrna', 1505), 3174: ('mrna', 1506), 3175: ('mrna', 1507), 3176: ('mrna', 1508), 3177: ('mrna', 1509), 3178: ('mrna', 1510), 3179: ('mrna', 1511), 3180: ('mrna', 1512), 3181: ('mrna', 1513), 3182: ('mrna', 1514), 3183: ('mrna', 1515), 3184: ('mrna', 1516), 3185: ('mrna', 1517), 3186: ('mrna', 1518), 3187: ('mrna', 1519), 3188: ('mrna', 1520), 3189: ('mrna', 1521), 3190: ('mrna', 1522), 3191: ('mrna', 1523), 3192: ('mrna', 1524), 3193: ('mrna', 1525), 3194: ('mrna', 1526), 3195: ('mrna', 1527), 3196: ('mrna', 1528), 3197: ('mrna', 1529), 3198: ('mrna', 1530), 3199: ('mrna', 1531), 3200: ('mrna', 1532), 3201: ('mrna', 1533), 3202: ('mrna', 1534), 3203: ('mrna', 1535), 3204: ('mrna', 1536), 3205: ('mrna', 1537), 3206: ('mrna', 1538), 3207: ('mrna', 1539), 3208: ('mrna', 1540), 3209: ('mrna', 1541), 3210: ('mrna', 1542), 3211: ('mrna', 1543), 3212: ('mrna', 1544), 3213: ('mrna', 1545), 3214: ('mrna', 1546), 3215: ('mrna', 1547), 3216: ('mrna', 1548), 3217: ('mrna', 1549), 3218: ('mrna', 1550), 3219: ('mrna', 1551), 3220: ('mrna', 1552), 3221: ('mrna', 1553), 3222: ('mrna', 1554), 3223: ('mrna', 1555), 3224: ('mrna', 1556), 3225: ('mrna', 1557), 3226: ('mrna', 1558), 3227: ('mrna', 1559), 3228: ('mrna', 1560), 3229: ('mrna', 1561), 3230: ('mrna', 1562), 3231: ('mrna', 1563), 3232: ('mrna', 1564), 3233: ('mrna', 1565), 3234: ('mrna', 1566), 3235: ('mrna', 1567), 3236: ('mrna', 1568), 3237: ('mrna', 1569), 3238: ('mrna', 1570), 3239: ('mrna', 1571), 3240: ('mrna', 1572), 3241: ('mrna', 1573), 3242: ('mrna', 1574), 3243: ('mrna', 1575), 3244: ('mrna', 1576), 3245: ('mrna', 1577), 3246: ('mrna', 1578), 3247: ('mrna', 1579), 3248: ('mrna', 1580), 3249: ('mrna', 1581), 3250: ('mrna', 1582), 3251: ('mrna', 1583), 3252: ('mrna', 1584), 3253: ('mrna', 1585), 3254: ('mrna', 1586), 3255: ('mrna', 1587), 3256: ('mrna', 1588), 3257: ('mrna', 1589), 3258: ('mrna', 1590), 3259: ('mrna', 1591), 3260: ('mrna', 1592), 3261: ('mrna', 1593), 3262: ('mrna', 1594), 3263: ('mrna', 1595), 3264: ('mrna', 1596), 3265: ('mrna', 1597), 3266: ('mrna', 1598), 3267: ('mrna', 1599), 3268: ('mrna', 1600), 3269: ('mrna', 1601), 3270: ('mrna', 1602), 3271: ('mrna', 1603), 3272: ('mrna', 1604), 3273: ('mrna', 1605), 3274: ('mrna', 1606), 3275: ('mrna', 1607), 3276: ('mrna', 1608), 3277: ('mrna', 1609), 3278: ('mrna', 1610), 3279: ('mrna', 1611), 3280: ('mrna', 1612), 3281: ('mrna', 1613), 3282: ('mrna', 1614), 3283: ('mrna', 1615), 3284: ('mrna', 1616), 3285: ('mrna', 1617), 3286: ('mrna', 1618), 3287: ('mrna', 1619), 3288: ('mrna', 1620), 3289: ('mrna', 1621), 3290: ('mrna', 1622), 3291: ('mrna', 1623), 3292: ('mrna', 1624), 3293: ('mrna', 1625), 3294: ('mrna', 1626), 3295: ('mrna', 1627), 3296: ('mrna', 1628), 3297: ('mrna', 1629), 3298: ('mrna', 1630), 3299: ('mrna', 1631), 3300: ('mrna', 1632), 3301: ('mrna', 1633), 3302: ('mrna', 1634), 3303: ('mrna', 1635), 3304: ('mrna', 1636), 3305: ('mrna', 1637), 3306: ('mrna', 1638), 3307: ('mrna', 1639), 3308: ('mrna', 1640), 3309: ('mrna', 1641), 3310: ('mrna', 1642), 3311: ('mrna', 1643), 3312: ('mrna', 1644), 3313: ('mrna', 1645), 3314: ('mrna', 1646), 3315: ('mrna', 1647), 3316: ('mrna', 1648), 3317: ('mrna', 1649), 3318: ('mrna', 1650), 3319: ('mrna', 1651), 3320: ('mrna', 1652), 3321: ('mrna', 1653), 3322: ('mrna', 1654), 3323: ('mrna', 1655), 3324: ('mrna', 1656), 3325: ('mrna', 1657), 3326: ('mrna', 1658), 3327: ('mrna', 1659), 3328: ('mrna', 1660), 3329: ('mrna', 1661), 3330: ('mrna', 1662), 3331: ('mrna', 1663), 3332: ('mrna', 1664), 3333: ('mrna', 1665), 3334: ('mrna', 1666), 3335: ('mrna', 1667), 3336: ('mrna', 1668), 3337: ('mrna', 1669), 3338: ('mrna', 1670), 3339: ('mrna', 1671), 3340: ('mrna', 1672), 3341: ('mrna', 1673), 3342: ('mrna', 1674), 3343: ('mrna', 1675), 3344: ('mrna', 1676), 3345: ('mrna', 1677), 3346: ('mrna', 1678), 3347: ('mrna', 1679), 3348: ('mrna', 1680), 3349: ('mrna', 1681), 3350: ('mrna', 1682), 3351: ('mrna', 1683), 3352: ('mrna', 1684), 3353: ('mrna', 1685), 3354: ('mrna', 1686), 3355: ('mrna', 1687), 3356: ('mrna', 1688), 3357: ('mrna', 1689), 3358: ('mrna', 1690), 3359: ('mrna', 1691), 3360: ('mrna', 1692), 3361: ('mrna', 1693), 3362: ('mrna', 1694), 3363: ('mrna', 1695), 3364: ('mrna', 1696), 3365: ('mrna', 1697), 3366: ('mrna', 1698), 3367: ('mrna', 1699), 3368: ('mrna', 1700), 3369: ('mrna', 1701), 3370: ('mrna', 1702), 3371: ('mrna', 1703), 3372: ('mrna', 1704), 3373: ('mrna', 1705), 3374: ('mrna', 1706), 3375: ('mrna', 1707), 3376: ('mrna', 1708), 3377: ('mrna', 1709), 3378: ('mrna', 1710), 3379: ('mrna', 1711), 3380: ('mrna', 1712), 3381: ('mrna', 1713), 3382: ('mrna', 1714), 3383: ('mrna', 1715), 3384: ('mrna', 1716), 3385: ('mrna', 1717), 3386: ('mrna', 1718), 3387: ('mrna', 1719), 3388: ('mrna', 1720), 3389: ('mrna', 1721), 3390: ('mrna', 1722), 3391: ('mrna', 1723), 3392: ('mrna', 1724), 3393: ('mrna', 1725), 3394: ('mrna', 1726), 3395: ('mrna', 1727), 3396: ('mrna', 1728), 3397: ('mrna', 1729), 3398: ('mrna', 1730), 3399: ('mrna', 1731), 3400: ('mrna', 1732), 3401: ('mrna', 1733), 3402: ('mrna', 1734), 3403: ('mrna', 1735), 3404: ('mrna', 1736), 3405: ('mrna', 1737), 3406: ('mrna', 1738), 3407: ('mrna', 1739), 3408: ('mrna', 1740), 3409: ('mrna', 1741), 3410: ('mrna', 1742), 3411: ('mrna', 1743), 3412: ('mrna', 1744), 3413: ('mrna', 1745), 3414: ('mrna', 1746), 3415: ('mrna', 1747), 3416: ('mrna', 1748), 3417: ('mrna', 1749), 3418: ('mrna', 1750), 3419: ('mrna', 1751), 3420: ('mrna', 1752), 3421: ('mrna', 1753), 3422: ('mrna', 1754), 3423: ('mrna', 1755), 3424: ('mrna', 1756), 3425: ('mrna', 1757), 3426: ('mrna', 1758), 3427: ('mrna', 1759), 3428: ('mrna', 1760), 3429: ('mrna', 1761), 3430: ('mrna', 1762), 3431: ('mrna', 1763), 3432: ('mrna', 1764), 3433: ('mrna', 1765), 3434: ('mrna', 1766), 3435: ('mrna', 1767), 3436: ('mrna', 1768), 3437: ('mrna', 1769), 3438: ('mrna', 1770), 3439: ('mrna', 1771), 3440: ('mrna', 1772), 3441: ('mrna', 1773), 3442: ('mrna', 1774), 3443: ('mrna', 1775), 3444: ('mrna', 1776), 3445: ('mrna', 1777), 3446: ('mrna', 1778), 3447: ('mrna', 1779), 3448: ('mrna', 1780), 3449: ('mrna', 1781), 3450: ('mrna', 1782), 3451: ('mrna', 1783), 3452: ('mrna', 1784), 3453: ('mrna', 1785), 3454: ('mrna', 1786), 3455: ('mrna', 1787), 3456: ('mrna', 1788), 3457: ('mrna', 1789), 3458: ('mrna', 1790), 3459: ('mrna', 1791), 3460: ('mrna', 1792), 3461: ('mrna', 1793), 3462: ('mrna', 1794), 3463: ('mrna', 1795), 3464: ('mrna', 1796), 3465: ('mrna', 1797), 3466: ('mrna', 1798), 3467: ('mrna', 1799), 3468: ('mrna', 1800), 3469: ('mrna', 1801), 3470: ('mrna', 1802), 3471: ('mrna', 1803), 3472: ('mrna', 1804), 3473: ('mrna', 1805), 3474: ('mrna', 1806), 3475: ('mrna', 1807), 3476: ('mrna', 1808), 3477: ('mrna', 1809), 3478: ('mrna', 1810), 3479: ('mrna', 1811), 3480: ('mrna', 1812), 3481: ('mrna', 1813), 3482: ('mrna', 1814), 3483: ('mrna', 1815), 3484: ('mrna', 1816), 3485: ('mrna', 1817), 3486: ('mrna', 1818), 3487: ('mrna', 1819), 3488: ('mrna', 1820), 3489: ('mrna', 1821), 3490: ('mrna', 1822), 3491: ('mrna', 1823), 3492: ('mrna', 1824), 3493: ('mrna', 1825), 3494: ('mrna', 1826), 3495: ('mrna', 1827), 3496: ('mrna', 1828), 3497: ('mrna', 1829), 3498: ('mrna', 1830), 3499: ('mrna', 1831), 3500: ('mrna', 1832), 3501: ('mrna', 1833), 3502: ('mrna', 1834), 3503: ('mrna', 1835), 3504: ('mrna', 1836), 3505: ('mrna', 1837), 3506: ('mrna', 1838), 3507: ('mrna', 1839), 3508: ('mrna', 1840), 3509: ('mrna', 1841), 3510: ('mrna', 1842), 3511: ('mrna', 1843), 3512: ('mrna', 1844), 3513: ('mrna', 1845), 3514: ('mrna', 1846), 3515: ('mrna', 1847), 3516: ('mrna', 1848), 3517: ('mrna', 1849), 3518: ('mrna', 1850), 3519: ('mrna', 1851), 3520: ('mrna', 1852), 3521: ('mrna', 1853), 3522: ('mrna', 1854), 3523: ('mrna', 1855), 3524: ('mrna', 1856), 3525: ('mrna', 1857), 3526: ('mrna', 1858), 3527: ('mrna', 1859), 3528: ('mrna', 1860), 3529: ('mrna', 1861), 3530: ('mrna', 1862), 3531: ('mrna', 1863), 3532: ('mrna', 1864), 3533: ('mrna', 1865), 3534: ('mrna', 1866), 3535: ('mrna', 1867), 3536: ('mrna', 1868), 3537: ('mrna', 1869), 3538: ('mrna', 1870), 3539: ('mrna', 1871), 3540: ('mrna', 1872), 3541: ('mrna', 1873), 3542: ('mrna', 1874), 3543: ('mrna', 1875), 3544: ('mrna', 1876), 3545: ('mrna', 1877), 3546: ('mrna', 1878), 3547: ('mrna', 1879), 3548: ('mrna', 1880), 3549: ('mrna', 1881), 3550: ('mrna', 1882), 3551: ('mrna', 1883), 3552: ('mrna', 1884), 3553: ('mrna', 1885), 3554: ('mrna', 1886), 3555: ('mrna', 1887), 3556: ('mrna', 1888), 3557: ('mrna', 1889), 3558: ('mrna', 1890), 3559: ('mrna', 1891), 3560: ('mrna', 1892), 3561: ('mrna', 1893), 3562: ('mrna', 1894), 3563: ('mrna', 1895), 3564: ('mrna', 1896), 3565: ('mrna', 1897), 3566: ('mrna', 1898), 3567: ('mrna', 1899), 3568: ('mrna', 1900), 3569: ('mrna', 1901), 3570: ('mrna', 1902), 3571: ('mrna', 1903), 3572: ('mrna', 1904), 3573: ('mrna', 1905), 3574: ('mrna', 1906), 3575: ('mrna', 1907), 3576: ('mrna', 1908), 3577: ('mrna', 1909), 3578: ('mrna', 1910), 3579: ('mrna', 1911), 3580: ('mrna', 1912), 3581: ('mrna', 1913), 3582: ('mrna', 1914), 3583: ('mrna', 1915), 3584: ('mrna', 1916), 3585: ('mrna', 1917), 3586: ('mrna', 1918), 3587: ('mrna', 1919), 3588: ('mrna', 1920), 3589: ('mrna', 1921), 3590: ('mrna', 1922), 3591: ('mrna', 1923), 3592: ('mrna', 1924), 3593: ('mrna', 1925), 3594: ('mrna', 1926), 3595: ('mrna', 1927), 3596: ('mrna', 1928), 3597: ('mrna', 1929), 3598: ('mrna', 1930), 3599: ('mrna', 1931), 3600: ('mrna', 1932), 3601: ('mrna', 1933), 3602: ('mrna', 1934), 3603: ('mrna', 1935), 3604: ('mrna', 1936), 3605: ('mrna', 1937), 3606: ('mrna', 1938), 3607: ('mrna', 1939), 3608: ('mrna', 1940), 3609: ('mrna', 1941), 3610: ('mrna', 1942), 3611: ('mrna', 1943), 3612: ('mrna', 1944), 3613: ('mrna', 1945), 3614: ('mrna', 1946), 3615: ('mrna', 1947), 3616: ('mrna', 1948), 3617: ('mrna', 1949), 3618: ('mrna', 1950), 3619: ('mrna', 1951), 3620: ('mrna', 1952), 3621: ('mrna', 1953), 3622: ('mrna', 1954), 3623: ('mrna', 1955), 3624: ('mrna', 1956), 3625: ('mrna', 1957), 3626: ('mrna', 1958), 3627: ('mrna', 1959), 3628: ('mrna', 1960), 3629: ('mrna', 1961), 3630: ('mrna', 1962), 3631: ('mrna', 1963), 3632: ('mrna', 1964), 3633: ('mrna', 1965), 3634: ('mrna', 1966), 3635: ('mrna', 1967), 3636: ('mrna', 1968), 3637: ('mrna', 1969), 3638: ('mrna', 1970), 3639: ('mrna', 1971), 3640: ('mrna', 1972), 3641: ('mrna', 1973), 3642: ('mrna', 1974), 3643: ('mrna', 1975), 3644: ('mrna', 1976), 3645: ('mrna', 1977), 3646: ('mrna', 1978), 3647: ('mrna', 1979), 3648: ('mrna', 1980), 3649: ('mrna', 1981), 3650: ('mrna', 1982), 3651: ('mrna', 1983), 3652: ('mrna', 1984), 3653: ('mrna', 1985), 3654: ('mrna', 1986), 3655: ('mrna', 1987), 3656: ('mrna', 1988), 3657: ('mrna', 1989), 3658: ('mrna', 1990), 3659: ('mrna', 1991), 3660: ('mrna', 1992), 3661: ('mrna', 1993), 3662: ('mrna', 1994), 3663: ('mrna', 1995), 3664: ('mrna', 1996), 3665: ('mrna', 1997), 3666: ('mrna', 1998), 3667: ('mrna', 1999), 3668: ('mrna', 2000), 3669: ('mrna', 2001), 3670: ('mrna', 2002), 3671: ('mrna', 2003), 3672: ('mrna', 2004), 3673: ('mrna', 2005), 3674: ('mrna', 2006), 3675: ('mrna', 2007), 3676: ('mrna', 2008), 3677: ('mrna', 2009), 3678: ('mrna', 2010), 3679: ('mrna', 2011), 3680: ('mrna', 2012), 3681: ('mrna', 2013), 3682: ('mrna', 2014), 3683: ('mrna', 2015), 3684: ('mrna', 2016), 3685: ('mrna', 2017), 3686: ('mrna', 2018), 3687: ('mrna', 2019), 3688: ('mrna', 2020), 3689: ('mrna', 2021), 3690: ('mrna', 2022), 3691: ('mrna', 2023), 3692: ('mrna', 2024), 3693: ('mrna', 2025), 3694: ('mrna', 2026), 3695: ('mrna', 2027), 3696: ('mrna', 2028), 3697: ('mrna', 2029), 3698: ('mrna', 2030), 3699: ('mrna', 2031), 3700: ('mrna', 2032), 3701: ('mrna', 2033), 3702: ('mrna', 2034), 3703: ('mrna', 2035), 3704: ('mrna', 2036), 3705: ('mrna', 2037), 3706: ('mrna', 2038), 3707: ('mrna', 2039), 3708: ('mrna', 2040), 3709: ('mrna', 2041), 3710: ('mrna', 2042), 3711: ('mrna', 2043), 3712: ('mrna', 2044), 3713: ('mrna', 2045), 3714: ('mrna', 2046), 3715: ('mrna', 2047), 3716: ('mrna', 2048), 3717: ('mrna', 2049), 3718: ('mrna', 2050), 3719: ('mrna', 2051), 3720: ('mrna', 2052), 3721: ('mrna', 2053), 3722: ('mrna', 2054), 3723: ('mrna', 2055), 3724: ('mrna', 2056), 3725: ('mrna', 2057), 3726: ('mrna', 2058), 3727: ('mrna', 2059), 3728: ('mrna', 2060), 3729: ('mrna', 2061), 3730: ('mrna', 2062), 3731: ('mrna', 2063), 3732: ('mrna', 2064), 3733: ('mrna', 2065), 3734: ('mrna', 2066), 3735: ('mrna', 2067), 3736: ('mrna', 2068), 3737: ('mrna', 2069), 3738: ('mrna', 2070), 3739: ('mrna', 2071), 3740: ('mrna', 2072), 3741: ('mrna', 2073), 3742: ('mrna', 2074), 3743: ('mrna', 2075), 3744: ('mrna', 2076), 3745: ('mrna', 2077), 3746: ('mrna', 2078), 3747: ('mrna', 2079), 3748: ('mrna', 2080), 3749: ('mrna', 2081), 3750: ('mrna', 2082), 3751: ('mrna', 2083), 3752: ('mrna', 2084), 3753: ('mrna', 2085), 3754: ('mrna', 2086), 3755: ('mrna', 2087), 3756: ('mrna', 2088), 3757: ('mrna', 2089), 3758: ('mrna', 2090), 3759: ('mrna', 2091), 3760: ('mrna', 2092), 3761: ('mrna', 2093), 3762: ('mrna', 2094), 3763: ('mrna', 2095), 3764: ('mrna', 2096), 3765: ('mrna', 2097), 3766: ('mrna', 2098), 3767: ('mrna', 2099), 3768: ('mrna', 2100), 3769: ('mrna', 2101), 3770: ('mrna', 2102), 3771: ('mrna', 2103), 3772: ('mrna', 2104), 3773: ('mrna', 2105), 3774: ('mrna', 2106), 3775: ('mrna', 2107), 3776: ('mrna', 2108), 3777: ('mrna', 2109), 3778: ('mrna', 2110), 3779: ('mrna', 2111), 3780: ('mrna', 2112), 3781: ('mrna', 2113), 3782: ('mrna', 2114), 3783: ('mrna', 2115), 3784: ('mrna', 2116), 3785: ('mrna', 2117), 3786: ('mrna', 2118), 3787: ('mrna', 2119), 3788: ('mrna', 2120), 3789: ('mrna', 2121), 3790: ('mrna', 2122), 3791: ('mrna', 2123), 3792: ('mrna', 2124), 3793: ('mrna', 2125), 3794: ('mrna', 2126), 3795: ('mrna', 2127), 3796: ('mrna', 2128), 3797: ('mrna', 2129), 3798: ('mrna', 2130), 3799: ('mrna', 2131), 3800: ('mrna', 2132), 3801: ('mrna', 2133), 3802: ('mrna', 2134), 3803: ('mrna', 2135), 3804: ('mrna', 2136), 3805: ('mrna', 2137), 3806: ('mrna', 2138), 3807: ('mrna', 2139), 3808: ('mrna', 2140), 3809: ('mrna', 2141), 3810: ('mrna', 2142), 3811: ('mrna', 2143), 3812: ('mrna', 2144), 3813: ('mrna', 2145), 3814: ('mrna', 2146), 3815: ('mrna', 2147), 3816: ('mrna', 2148), 3817: ('mrna', 2149), 3818: ('mrna', 2150), 3819: ('mrna', 2151), 3820: ('mrna', 2152), 3821: ('mrna', 2153), 3822: ('mrna', 2154), 3823: ('mrna', 2155), 3824: ('mrna', 2156), 3825: ('mrna', 2157), 3826: ('mrna', 2158), 3827: ('mrna', 2159), 3828: ('mrna', 2160), 3829: ('mrna', 2161), 3830: ('mrna', 2162), 3831: ('mrna', 2163), 3832: ('mrna', 2164), 3833: ('mrna', 2165), 3834: ('mrna', 2166), 3835: ('mrna', 2167), 3836: ('mrna', 2168), 3837: ('mrna', 2169), 3838: ('mrna', 2170), 3839: ('mrna', 2171), 3840: ('mrna', 2172), 3841: ('mrna', 2173), 3842: ('mrna', 2174), 3843: ('mrna', 2175), 3844: ('mrna', 2176), 3845: ('mrna', 2177), 3846: ('mrna', 2178), 3847: ('mrna', 2179), 3848: ('mrna', 2180), 3849: ('mrna', 2181), 3850: ('mrna', 2182), 3851: ('mrna', 2183), 3852: ('mrna', 2184), 3853: ('mrna', 2185), 3854: ('mrna', 2186), 3855: ('mrna', 2187), 3856: ('mrna', 2188), 3857: ('mrna', 2189), 3858: ('mrna', 2190), 3859: ('mrna', 2191), 3860: ('mrna', 2192), 3861: ('mrna', 2193), 3862: ('mrna', 2194), 3863: ('mrna', 2195), 3864: ('mrna', 2196), 3865: ('mrna', 2197), 3866: ('mrna', 2198), 3867: ('mrna', 2199), 3868: ('mrna', 2200), 3869: ('mrna', 2201), 3870: ('mrna', 2202), 3871: ('mrna', 2203), 3872: ('mrna', 2204), 3873: ('mrna', 2205), 3874: ('mrna', 2206), 3875: ('mrna', 2207), 3876: ('mrna', 2208), 3877: ('mrna', 2209), 3878: ('mrna', 2210), 3879: ('mrna', 2211), 3880: ('mrna', 2212), 3881: ('mrna', 2213), 3882: ('mrna', 2214), 3883: ('mrna', 2215), 3884: ('mrna', 2216), 3885: ('mrna', 2217), 3886: ('mrna', 2218), 3887: ('mrna', 2219), 3888: ('mrna', 2220), 3889: ('mrna', 2221), 3890: ('mrna', 2222), 3891: ('mrna', 2223), 3892: ('mrna', 2224), 3893: ('mrna', 2225), 3894: ('mrna', 2226), 3895: ('mrna', 2227), 3896: ('mrna', 2228), 3897: ('mrna', 2229), 3898: ('mrna', 2230), 3899: ('mrna', 2231), 3900: ('mrna', 2232), 3901: ('mrna', 2233), 3902: ('mrna', 2234), 3903: ('mrna', 2235), 3904: ('mrna', 2236), 3905: ('mrna', 2237), 3906: ('mrna', 2238), 3907: ('mrna', 2239), 3908: ('mrna', 2240), 3909: ('mrna', 2241), 3910: ('mrna', 2242), 3911: ('mrna', 2243), 3912: ('mrna', 2244), 3913: ('mrna', 2245), 3914: ('mrna', 2246), 3915: ('mrna', 2247), 3916: ('mrna', 2248), 3917: ('mrna', 2249), 3918: ('mrna', 2250), 3919: ('mrna', 2251), 3920: ('mrna', 2252), 3921: ('mrna', 2253), 3922: ('mrna', 2254), 3923: ('mrna', 2255), 3924: ('mrna', 2256), 3925: ('mrna', 2257), 3926: ('mrna', 2258), 3927: ('mrna', 2259), 3928: ('mrna', 2260), 3929: ('mrna', 2261), 3930: ('mrna', 2262), 3931: ('mrna', 2263), 3932: ('mrna', 2264), 3933: ('mrna', 2265), 3934: ('mrna', 2266), 3935: ('mrna', 2267), 3936: ('mrna', 2268), 3937: ('mrna', 2269), 3938: ('mrna', 2270), 3939: ('mrna', 2271), 3940: ('mrna', 2272), 3941: ('mrna', 2273), 3942: ('mrna', 2274), 3943: ('mrna', 2275), 3944: ('mrna', 2276), 3945: ('mrna', 2277), 3946: ('mrna', 2278), 3947: ('mrna', 2279), 3948: ('mrna', 2280), 3949: ('mrna', 2281), 3950: ('mrna', 2282), 3951: ('mrna', 2283), 3952: ('mrna', 2284), 3953: ('mrna', 2285), 3954: ('mrna', 2286), 3955: ('mrna', 2287), 3956: ('mrna', 2288), 3957: ('mrna', 2289), 3958: ('mrna', 2290), 3959: ('mrna', 2291), 3960: ('mrna', 2292), 3961: ('mrna', 2293), 3962: ('mrna', 2294), 3963: ('mrna', 2295), 3964: ('mrna', 2296), 3965: ('mrna', 2297), 3966: ('mrna', 2298), 3967: ('mrna', 2299), 3968: ('mrna', 2300), 3969: ('mrna', 2301), 3970: ('mrna', 2302), 3971: ('mrna', 2303), 3972: ('mrna', 2304), 3973: ('mrna', 2305), 3974: ('mrna', 2306), 3975: ('mrna', 2307), 3976: ('mrna', 2308), 3977: ('mrna', 2309), 3978: ('mrna', 2310), 3979: ('mrna', 2311), 3980: ('mrna', 2312), 3981: ('mrna', 2313), 3982: ('mrna', 2314), 3983: ('mrna', 2315), 3984: ('mrna', 2316), 3985: ('mrna', 2317), 3986: ('mrna', 2318), 3987: ('mrna', 2319), 3988: ('mrna', 2320), 3989: ('mrna', 2321), 3990: ('mrna', 2322), 3991: ('mrna', 2323), 3992: ('mrna', 2324), 3993: ('mrna', 2325), 3994: ('mrna', 2326), 3995: ('mrna', 2327), 3996: ('mrna', 2328), 3997: ('mrna', 2329), 3998: ('mrna', 2330), 3999: ('mrna', 2331), 4000: ('mrna', 2332), 4001: ('mrna', 2333), 4002: ('mrna', 2334), 4003: ('mrna', 2335), 4004: ('mrna', 2336), 4005: ('mrna', 2337), 4006: ('mrna', 2338), 4007: ('mrna', 2339), 4008: ('mrna', 2340), 4009: ('mrna', 2341), 4010: ('mrna', 2342), 4011: ('mrna', 2343), 4012: ('mrna', 2344), 4013: ('mrna', 2345), 4014: ('mrna', 2346), 4015: ('mrna', 2347), 4016: ('mrna', 2348), 4017: ('mrna', 2349), 4018: ('mrna', 2350), 4019: ('mrna', 2351), 4020: ('mrna', 2352), 4021: ('mrna', 2353), 4022: ('mrna', 2354), 4023: ('mrna', 2355), 4024: ('mrna', 2356), 4025: ('mrna', 2357), 4026: ('mrna', 2358), 4027: ('mrna', 2359), 4028: ('mrna', 2360), 4029: ('mrna', 2361), 4030: ('mrna', 2362), 4031: ('mrna', 2363), 4032: ('mrna', 2364), 4033: ('mrna', 2365), 4034: ('mrna', 2366), 4035: ('mrna', 2367), 4036: ('mrna', 2368), 4037: ('mrna', 2369), 4038: ('mrna', 2370), 4039: ('mrna', 2371), 4040: ('mrna', 2372), 4041: ('mrna', 2373), 4042: ('mrna', 2374), 4043: ('mrna', 2375), 4044: ('mrna', 2376), 4045: ('mrna', 2377), 4046: ('mrna', 2378), 4047: ('mrna', 2379), 4048: ('mrna', 2380), 4049: ('mrna', 2381), 4050: ('mrna', 2382), 4051: ('mrna', 2383), 4052: ('mrna', 2384), 4053: ('mrna', 2385), 4054: ('mrna', 2386), 4055: ('mrna', 2387), 4056: ('mrna', 2388), 4057: ('mrna', 2389), 4058: ('mrna', 2390), 4059: ('mrna', 2391), 4060: ('mrna', 2392), 4061: ('mrna', 2393), 4062: ('mrna', 2394), 4063: ('mrna', 2395), 4064: ('mrna', 2396), 4065: ('mrna', 2397), 4066: ('mrna', 2398), 4067: ('mrna', 2399), 4068: ('mrna', 2400), 4069: ('mrna', 2401), 4070: ('mrna', 2402), 4071: ('mrna', 2403), 4072: ('mrna', 2404), 4073: ('mrna', 2405), 4074: ('mrna', 2406), 4075: ('mrna', 2407), 4076: ('mrna', 2408), 4077: ('mrna', 2409), 4078: ('mrna', 2410), 4079: ('mrna', 2411), 4080: ('mrna', 2412), 4081: ('mrna', 2413), 4082: ('mrna', 2414), 4083: ('mrna', 2415), 4084: ('mrna', 2416), 4085: ('mrna', 2417), 4086: ('mrna', 2418), 4087: ('mrna', 2419), 4088: ('mrna', 2420), 4089: ('mrna', 2421), 4090: ('mrna', 2422), 4091: ('mrna', 2423), 4092: ('mrna', 2424), 4093: ('mrna', 2425), 4094: ('mrna', 2426), 4095: ('mrna', 2427), 4096: ('mrna', 2428), 4097: ('mrna', 2429), 4098: ('mrna', 2430), 4099: ('mrna', 2431), 4100: ('mrna', 2432), 4101: ('mrna', 2433), 4102: ('mrna', 2434), 4103: ('mrna', 2435), 4104: ('mrna', 2436), 4105: ('mrna', 2437), 4106: ('mrna', 2438), 4107: ('mrna', 2439), 4108: ('mrna', 2440), 4109: ('mrna', 2441), 4110: ('mrna', 2442), 4111: ('mrna', 2443), 4112: ('mrna', 2444), 4113: ('mrna', 2445), 4114: ('mrna', 2446), 4115: ('mrna', 2447), 4116: ('mrna', 2448), 4117: ('mrna', 2449), 4118: ('mrna', 2450), 4119: ('mrna', 2451), 4120: ('mrna', 2452), 4121: ('mrna', 2453), 4122: ('mrna', 2454), 4123: ('mrna', 2455), 4124: ('mrna', 2456), 4125: ('mrna', 2457), 4126: ('mrna', 2458), 4127: ('mrna', 2459), 4128: ('mrna', 2460), 4129: ('mrna', 2461), 4130: ('mrna', 2462), 4131: ('mrna', 2463), 4132: ('mrna', 2464), 4133: ('mrna', 2465), 4134: ('mrna', 2466), 4135: ('mrna', 2467), 4136: ('mrna', 2468), 4137: ('mrna', 2469), 4138: ('mrna', 2470), 4139: ('mrna', 2471), 4140: ('mrna', 2472), 4141: ('mrna', 2473), 4142: ('mrna', 2474), 4143: ('mrna', 2475), 4144: ('mrna', 2476), 4145: ('mrna', 2477), 4146: ('mrna', 2478), 4147: ('mrna', 2479), 4148: ('mrna', 2480), 4149: ('mrna', 2481), 4150: ('mrna', 2482), 4151: ('mrna', 2483), 4152: ('mrna', 2484), 4153: ('mrna', 2485), 4154: ('mrna', 2486), 4155: ('mrna', 2487), 4156: ('mrna', 2488), 4157: ('mrna', 2489), 4158: ('mrna', 2490), 4159: ('mrna', 2491), 4160: ('mrna', 2492), 4161: ('mrna', 2493), 4162: ('mrna', 2494), 4163: ('mrna', 2495), 4164: ('mrna', 2496), 4165: ('mrna', 2497), 4166: ('mrna', 2498), 4167: ('mrna', 2499), 4168: ('mrna', 2500), 4169: ('mrna', 2501), 4170: ('mrna', 2502), 4171: ('mrna', 2503), 4172: ('mrna', 2504), 4173: ('mrna', 2505), 4174: ('mrna', 2506), 4175: ('mrna', 2507), 4176: ('mrna', 2508), 4177: ('mrna', 2509), 4178: ('mrna', 2510), 4179: ('mrna', 2511), 4180: ('mrna', 2512), 4181: ('mrna', 2513), 4182: ('mrna', 2514), 4183: ('mrna', 2515), 4184: ('mrna', 2516), 4185: ('mrna', 2517), 4186: ('mrna', 2518)}\n"
     ]
    }
   ],
   "source": [
    "# 要把networkx的graph转为异构图\n",
    "# N80.csv只存了子图节点，还要存子图节点类型，类型和类型之间关系\n",
    "rna_num = {}\n",
    "num_rna = {}\n",
    "curnode = 0\n",
    "for name in g.ntypes:\n",
    "    tmp={}\n",
    "    for i in range(g.number_of_nodes(name)):\n",
    "        tmp[i]=curnode\n",
    "        num_rna[curnode]=(name,i)\n",
    "        curnode+=1\n",
    "    rna_num[name]=tmp\n",
    "print(num_rna)"
   ],
   "metadata": {
    "collapsed": false,
    "ExecuteTime": {
     "end_time": "2024-01-18T13:02:32.168806800Z",
     "start_time": "2024-01-18T13:02:32.118763600Z"
    }
   },
   "id": "7b945c6c2958f305"
  },
  {
   "cell_type": "code",
   "execution_count": 20,
   "outputs": [
    {
     "name": "stdout",
     "output_type": "stream",
     "text": [
      "25 64 311 0 400 38 74 195 74 24 1800 195 1800 2012\n",
      "276 14 110 1 400 7930 18 1034 18 0 288 1034 288 1038\n",
      "50 93 257 2 400 182 76 339 76 58 2014 339 2014 1356\n",
      "21 84 295 3 400 2 84 90 84 62 2027 90 2027 1682\n",
      "3 11 386 4 400 0 4 8 4 2 1115 8 1115 2398\n",
      "4 11 385 5 400 0 12 1 12 42 1023 1 1023 2120\n",
      "232 41 127 6 400 8308 57 11035 57 12 384 11035 384 13344\n",
      "46 125 229 7 400 150 109 386 109 96 1653 386 1653 3010\n",
      "19 10 371 8 400 0 25 40 25 8 729 40 729 2042\n",
      "37 44 319 9 400 14 79 92 79 68 1333 92 1333 1348\n",
      "112 145 143 10 400 518 127 818 127 126 1188 818 1188 2246\n",
      "8 13 379 11 400 0 17 8 17 2 801 8 801 1394\n",
      "37 38 325 12 400 62 69 174 69 30 1203 174 1203 1678\n",
      "163 15 222 13 400 6016 2 6395 2 14 260 6395 260 8064\n",
      "288 2 110 14 400 7292 1 956 1 0 114 956 114 210\n",
      "190 2 208 15 400 2404 0 1202 0 0 231 1202 231 816\n",
      "152 5 243 16 400 1424 11 929 11 12 315 929 315 844\n",
      "8 5 387 17 400 0 9 10 9 0 506 10 506 2020\n",
      "138 6 256 18 400 3208 1 4519 1 0 80 4519 80 9154\n",
      "130 2 268 19 400 2356 0 3637 0 0 53 3637 53 7460\n",
      "28 32 340 20 400 8 66 93 66 68 1142 93 1142 1562\n",
      "74 122 204 21 400 218 163 531 163 122 1416 531 1416 1332\n",
      "65 96 239 22 400 466 106 510 106 80 1385 510 1385 962\n",
      "295 6 99 23 400 9300 8 765 8 10 215 765 215 124\n",
      "175 4 221 24 400 2138 9 790 9 6 304 790 304 632\n",
      "247 2 151 25 400 4710 7 1227 7 0 183 1227 183 394\n",
      "113 7 280 26 400 1268 1 2346 1 2 120 2346 120 5568\n",
      "59 1 340 27 400 202 5 564 5 0 340 564 340 2276\n",
      "4 1 395 28 400 0 4 2 4 0 395 2 395 2264\n",
      "2 1 397 29 400 0 2 0 2 0 397 0 397 1958\n",
      "5 7 388 30 400 0 4 2 4 0 525 2 525 1764\n",
      "8 1 391 31 400 0 8 8 8 0 391 8 391 1438\n",
      "142 1 257 32 400 3402 0 5019 0 0 36 5019 36 10286\n",
      "5 6 389 33 400 0 7 11 7 12 643 11 643 2594\n",
      "281 1 118 34 400 7880 1 1135 1 0 118 1135 118 178\n",
      "254 8 138 35 400 4962 4 951 4 44 243 951 243 296\n",
      "2 5 393 36 400 0 2 32 2 0 584 32 584 2314\n",
      "88 1 311 37 400 490 1 618 1 0 311 618 311 1200\n",
      "68 9 323 38 400 1282 0 2792 0 0 253 2792 253 11098\n",
      "120 3 277 39 400 1988 0 3707 0 0 54 3707 54 8536\n",
      "108 7 285 40 400 1140 2 2296 2 0 130 2296 130 5696\n",
      "131 5 264 41 400 2304 1 3573 1 0 71 3573 71 7500\n",
      "7 10 383 42 400 0 7 22 7 2 722 22 722 1472\n",
      "128 155 117 43 400 532 170 782 170 118 1092 782 1092 1818\n",
      "11 4 385 44 400 4 9 117 9 0 439 117 439 2524\n",
      "118 6 276 45 400 1692 0 2749 0 2 143 2749 143 5872\n",
      "134 1 265 46 400 1034 10 831 10 0 265 831 265 844\n",
      "10 23 367 47 400 0 24 7 24 64 885 7 885 2100\n",
      "154 1 245 48 400 3840 0 4958 0 0 26 4958 26 9312\n",
      "129 4 267 49 400 2040 0 3155 0 0 79 3155 79 5914\n",
      "278 3 119 50 400 7760 4 1110 4 6 143 1110 143 252\n",
      "120 8 272 51 400 1628 2 2494 2 6 163 2494 163 4956\n",
      "104 10 286 52 400 1168 0 2149 0 0 154 2149 154 4848\n",
      "300 5 95 53 400 7950 4 804 4 20 153 804 153 80\n",
      "290 1 109 54 400 9702 0 865 0 0 108 865 108 158\n",
      "249 1 150 55 400 5624 0 1308 0 0 147 1308 147 400\n",
      "141 3 256 56 400 3720 0 4797 0 0 57 4797 57 8442\n",
      "4 4 392 57 400 0 3 17 3 0 600 17 600 2450\n",
      "114 2 284 58 400 1714 0 2433 0 0 44 2433 44 7372\n",
      "106 4 290 59 400 1268 0 2490 0 0 89 2490 89 6012\n",
      "15 2 383 60 400 16 1 86 1 2 400 86 400 1848\n",
      "137 3 260 61 400 3082 0 4540 0 0 52 4540 52 9626\n",
      "98 1 301 62 400 520 3 543 3 0 301 543 301 764\n",
      "9 3 388 63 400 0 8 39 8 0 538 39 538 2432\n",
      "3 2 395 64 400 0 3 1 3 0 429 1 429 2578\n",
      "52 2 346 65 400 188 3 483 3 2 349 483 349 2032\n",
      "6 1 393 66 400 2 2 12 2 0 393 12 393 2558\n",
      "1 1 398 67 400 0 1 0 1 0 398 0 398 3242\n",
      "127 2 271 68 400 1932 0 3026 0 0 61 3026 61 6120\n",
      "95 3 302 69 400 858 1 2378 1 0 68 2378 68 9378\n",
      "114 5 281 70 400 1272 0 2263 0 0 90 2263 90 5864\n",
      "67 116 217 71 400 366 1 1028 1 62 1922 1028 1922 3664\n",
      "110 5 285 72 400 1222 3 2315 3 2 103 2315 103 5668\n",
      "1 4 395 73 400 0 2 0 2 0 500 0 500 2596\n",
      "184 79 137 74 400 6988 99 2622 99 44 775 2622 775 8902\n",
      "26 35 339 75 400 2 45 28 45 78 927 28 927 1608\n",
      "24 25 351 76 400 16 32 83 32 58 1026 83 1026 2134\n",
      "261 4 135 77 400 5764 4 893 4 8 201 893 201 236\n",
      "8 16 376 78 400 0 17 27 17 2 973 27 973 1642\n",
      "5 1 394 79 400 2 4 2 4 0 394 2 394 2264\n",
      "17 4 379 80 400 80 3 110 3 0 438 110 438 1346\n",
      "158 4 238 81 400 5434 0 8884 0 2 19 8884 19 19906\n",
      "11 2 387 82 400 0 10 36 10 0 436 36 436 1534\n",
      "28 45 327 83 400 4 93 122 93 62 1688 122 1688 1634\n",
      "7 5 388 84 400 4 4 29 4 0 538 29 538 1810\n",
      "23 37 340 85 400 0 68 24 68 74 1196 24 1196 1592\n",
      "110 107 183 86 400 482 134 535 134 98 1138 535 1138 840\n",
      "10 2 388 87 400 0 9 13 9 0 449 13 449 2008\n",
      "11 7 382 88 400 2 3 98 3 0 571 98 571 2892\n",
      "24 27 349 89 400 0 35 42 35 70 1033 42 1033 1744\n",
      "12 13 375 90 400 0 23 32 23 0 767 32 767 1764\n",
      "81 99 220 91 400 190 153 352 153 90 1422 352 1422 782\n",
      "55 69 276 92 400 212 40 404 40 32 2517 404 2517 1104\n",
      "11 3 386 93 400 0 15 34 15 2 513 34 513 1582\n",
      "221 76 103 94 400 8472 75 9567 75 42 459 9567 459 8908\n",
      "145 81 174 95 400 4634 22 7740 22 36 935 7740 935 12812\n",
      "112 12 276 96 400 596 5 632 5 10 483 632 483 882\n",
      "90 93 217 97 400 2040 122 904 122 94 1479 904 1479 668\n",
      "7 8 385 98 400 0 16 8 16 2 857 8 857 1786\n",
      "12 2 386 99 400 2 10 36 10 0 435 36 435 1526\n",
      "131 154 115 100 400 2720 179 3937 179 130 969 3937 969 5630\n",
      "11 3 386 101 400 0 9 11 9 0 459 11 459 1408\n",
      "177 1 222 102 400 6330 0 10196 0 0 4 10196 4 18744\n",
      "100 149 151 103 400 490 136 767 136 104 1523 767 1523 1504\n",
      "20 18 362 104 400 2 26 65 26 46 886 65 886 2020\n",
      "5 5 390 105 400 0 5 1 5 6 443 1 443 1522\n",
      "222 4 174 106 400 3722 4 922 4 6 185 922 185 300\n",
      "150 40 210 107 400 6050 44 2271 44 14 744 2271 744 1198\n",
      "19 17 364 108 400 0 29 49 29 52 946 49 946 1956\n",
      "161 100 139 109 400 6586 124 998 124 88 934 998 934 452\n",
      "8 12 380 110 400 0 15 7 15 18 818 7 818 1892\n",
      "200 8 192 111 400 7746 7 13429 7 0 135 13429 135 25458\n",
      "125 5 270 112 400 700 11 804 11 8 559 804 559 1070\n",
      "272 2 126 113 400 7064 3 1492 3 2 130 1492 130 372\n",
      "240 3 157 114 400 4872 3 1440 3 6 181 1440 181 488\n",
      "9 5 386 115 400 2 15 37 15 6 620 37 620 2960\n",
      "25 54 321 116 400 116 4 252 4 32 1849 252 1849 1594\n",
      "162 8 230 117 400 2084 6 732 6 42 391 732 391 594\n",
      "19 23 358 118 400 92 18 88 18 2 1395 88 1395 2182\n",
      "220 48 132 119 400 8450 32 11732 32 28 416 11732 416 14688\n",
      "13 24 363 120 400 0 22 44 22 54 997 44 997 2044\n",
      "13 6 381 121 400 4 20 72 20 2 599 72 599 2030\n",
      "14 52 334 122 400 2 43 16 43 26 1788 16 1788 1404\n"
     ]
    }
   ],
   "source": [
    "#开始处理sub1，要知道每个结点属于什么类型，以及节点直接关系属于什么类型\n",
    "#三种RNA的id，都必须是0-len（rna）\n",
    "degree0_2_subgraph = {}\n",
    "path = \"N\"+str(N)+\"/\"+str(11)\n",
    "for k in range(len(all_subgraphs)):\n",
    "    lnc_lnc = []\n",
    "    lnc_mi = []\n",
    "    lnc_m = []\n",
    "    mi_lnc = []\n",
    "    mi_mi = []\n",
    "    mi_m = []\n",
    "    m_lnc = []\n",
    "    m_mi = []\n",
    "    m_m = []\n",
    "    sub1 = list(all_subgraphs.iloc[k,:])\n",
    "    rna_num = [0,0,0]\n",
    "    node_type_id = {}\n",
    "    lnc_num = 0\n",
    "    mi_num = 0\n",
    "    m_num = 0\n",
    "    \n",
    "    degree0_2_subgraph[k] = {}\n",
    "    cursor = 0\n",
    "    for f,node in enumerate(sub1):\n",
    "        type = num_rna[node][0]\n",
    "        degree0_2_subgraph[k][cursor] = node_dict[node]\n",
    "\n",
    "        if type == \"lncrna\":\n",
    "            node_type_id[node] = (type,lnc_num)\n",
    "            lnc_num += 1\n",
    "        elif type == \"mirna\":\n",
    "            node_type_id[node] = (type,mi_num)\n",
    "            mi_num += 1\n",
    "        elif type == \"mrna\":\n",
    "            node_type_id[node] = (type,m_num)\n",
    "            m_num += 1\n",
    "        cursor += 1\n",
    "    print(lnc_num,mi_num,m_num,end=\" \")\n",
    "    for index1,node in enumerate(sub1):\n",
    "        if num_rna[node][0] == \"lncrna\":\n",
    "            #判断邻居属性\n",
    "            for index,node1 in enumerate(sub1):\n",
    "                #子图内的邻居节点node,i\n",
    "                if new_A[node_dict[node],node_dict[node1]]==1:\n",
    "                    if num_rna[node1][0] == \"lncrna\":\n",
    "                        lnc_lnc.append([node_type_id[node][1],node_type_id[node1][1]])\n",
    "                    elif num_rna[node1][0] == \"mirna\":\n",
    "                        lnc_mi.append([node_type_id[node][1],node_type_id[node1][1]])\n",
    "                    elif num_rna[node1][0] == \"mrna\":\n",
    "                        lnc_m.append([node_type_id[node][1],node_type_id[node1][1]])\n",
    "        elif num_rna[node][0] == \"mirna\":\n",
    "            for index,node1 in enumerate(sub1):\n",
    "                #子图内的邻居节点node,i\n",
    "                if new_A[node_dict[node],node_dict[node1]]==1:\n",
    "                    if num_rna[node1][0] == \"lncrna\":\n",
    "                        mi_lnc.append([node_type_id[node][1],node_type_id[node1][1]])\n",
    "                    elif num_rna[node1][0] == \"mirna\":\n",
    "                        mi_mi.append([node_type_id[node][1],node_type_id[node1][1]])\n",
    "                    elif num_rna[node1][0] == \"mrna\":\n",
    "                        mi_m.append([node_type_id[node][1],node_type_id[node1][1]])\n",
    "        elif num_rna[node][0] == \"mrna\":\n",
    "            for index,node1 in enumerate(sub1):\n",
    "                #子图内的邻居节点node,i\n",
    "                if new_A[node_dict[node],node_dict[node1]]==1:\n",
    "                    if num_rna[node1][0] == \"lncrna\":\n",
    "                        m_lnc.append([node_type_id[node][1],node_type_id[node1][1]])\n",
    "                    elif num_rna[node1][0] == \"mirna\":\n",
    "                        m_mi.append([node_type_id[node][1],node_type_id[node1][1]])\n",
    "                    elif num_rna[node1][0] == \"mrna\":\n",
    "                        m_m.append([node_type_id[node][1],node_type_id[node1][1]])\n",
    "    print(k,len(sub1),len(lnc_lnc),len(lnc_mi),len(lnc_m),len(mi_lnc),len(mi_mi),len(mi_m),len(m_lnc),len(m_mi),len(m_m))\n",
    "    try:\n",
    "        data_lnc_lnc = pd.DataFrame(lnc_lnc).to_csv(\"../data/SubGraph/\"+path+\"/\"+str(k)+\"/sub_lnc_lnc.csv\",index=False)\n",
    "        data_lnc_mi = pd.DataFrame(lnc_mi).to_csv(\"../data/SubGraph/\"+path+\"/\"+str(k)+\"/sub_lnc_mi.csv\",index=False)\n",
    "        data_lnc_m = pd.DataFrame(lnc_m).to_csv(\"../data/SubGraph/\"+path+\"/\"+str(k)+\"/sub_lnc_m.csv\",index=False)\n",
    "        data_mi_lnc = pd.DataFrame(mi_lnc).to_csv(\"../data/SubGraph/\"+path+\"/\"+str(k)+\"/sub_mi_lnc.csv\",index=False)\n",
    "        data_mi_mi = pd.DataFrame(mi_mi).to_csv(\"../data/SubGraph/\"+path+\"/\"+str(k)+\"/sub_mi_mi.csv\",index=False)\n",
    "        data_mi_m = pd.DataFrame(mi_m).to_csv(\"../data/SubGraph/\"+path+\"/\"+str(k)+\"/sub_mi_m.csv\",index=False)\n",
    "        data_m_lnc = pd.DataFrame(m_lnc).to_csv(\"../data/SubGraph/\"+path+\"/\"+str(k)+\"/sub_m_lnc.csv\",index=False)\n",
    "        data_m_mi = pd.DataFrame(m_mi).to_csv(\"../data/SubGraph/\"+path+\"/\"+str(k)+\"/sub_m_mi.csv\",index=False)\n",
    "        data_m_m = pd.DataFrame(m_m).to_csv(\"../data/SubGraph/\"+path+\"/\"+str(k)+\"/sub_m_m.csv\",index=False)\n",
    "    except OSError:\n",
    "        os.mkdir(\"../data/SubGraph/\"+path+\"/\"+str(k)+\"/\")\n",
    "        data_lnc_lnc = pd.DataFrame(lnc_lnc).to_csv(\"../data/SubGraph/\"+path+\"/\"+str(k)+\"/sub_lnc_lnc.csv\",index=False)\n",
    "        data_lnc_mi = pd.DataFrame(lnc_mi).to_csv(\"../data/SubGraph/\"+path+\"/\"+str(k)+\"/sub_lnc_mi.csv\",index=False)\n",
    "        data_lnc_m = pd.DataFrame(lnc_m).to_csv(\"../data/SubGraph/\"+path+\"/\"+str(k)+\"/sub_lnc_m.csv\",index=False)\n",
    "        data_mi_lnc = pd.DataFrame(mi_lnc).to_csv(\"../data/SubGraph/\"+path+\"/\"+str(k)+\"/sub_mi_lnc.csv\",index=False)\n",
    "        data_mi_mi = pd.DataFrame(mi_mi).to_csv(\"../data/SubGraph/\"+path+\"/\"+str(k)+\"/sub_mi_mi.csv\",index=False)\n",
    "        data_mi_m = pd.DataFrame(mi_m).to_csv(\"../data/SubGraph/\"+path+\"/\"+str(k)+\"/sub_mi_m.csv\",index=False)\n",
    "        data_m_lnc = pd.DataFrame(m_lnc).to_csv(\"../data/SubGraph/\"+path+\"/\"+str(k)+\"/sub_m_lnc.csv\",index=False)\n",
    "        data_m_mi = pd.DataFrame(m_mi).to_csv(\"../data/SubGraph/\"+path+\"/\"+str(k)+\"/sub_m_mi.csv\",index=False)\n",
    "        data_m_m = pd.DataFrame(m_m).to_csv(\"../data/SubGraph/\"+path+\"/\"+str(k)+\"/sub_m_m.csv\",index=False)\n"
   ],
   "metadata": {
    "collapsed": false,
    "ExecuteTime": {
     "end_time": "2024-01-18T13:02:41.503262600Z",
     "start_time": "2024-01-18T13:02:32.158947100Z"
    }
   },
   "id": "ff5f80f30fb615df"
  },
  {
   "cell_type": "code",
   "execution_count": 21,
   "outputs": [],
   "source": [
    "torch.save(degree0_2_subgraph,\"degree0_2_subgraph_\"+str(N)+\"_\"+str(11)+\"_\"+\".pt\")"
   ],
   "metadata": {
    "collapsed": false,
    "ExecuteTime": {
     "end_time": "2024-01-18T13:02:41.581577700Z",
     "start_time": "2024-01-18T13:02:41.503262600Z"
    }
   },
   "id": "c049dd779bce409e"
  },
  {
   "cell_type": "code",
   "execution_count": 22,
   "outputs": [
    {
     "name": "stdout",
     "output_type": "stream",
     "text": [
      "tensor(3164.)\n",
      "3164\n"
     ]
    }
   ],
   "source": [
    "aaa = torch.load(\"degree0_2_subgraph_\"+str(N)+\"_\"+str(11)+\"_\"+\".pt\")\n",
    "a = set([])\n",
    "state = torch.zeros((3164,1))\n",
    "for i in range(123):\n",
    "    for j in range(N):\n",
    "        state[aaa[i][j]] = 1\n",
    "        a.add(aaa[i][j])\n",
    "print(torch.sum(state))\n",
    "print(len(a))"
   ],
   "metadata": {
    "collapsed": false,
    "ExecuteTime": {
     "end_time": "2024-01-18T13:02:41.795950300Z",
     "start_time": "2024-01-18T13:02:41.581577700Z"
    }
   },
   "id": "a75a1b6666c77188"
  },
  {
   "cell_type": "code",
   "execution_count": 23,
   "outputs": [],
   "source": [
    "#读取子图1，然后测试RGCN是否能用这个子图\n",
    "# path='../data/SubGraph/N300/3/0'\n",
    "# # a=pd.read_csv(path+'/sub_lnc_lnc.csv')\n",
    "# print(os.path.getsize(path+'/sub_lnc_lnc.csv'))\n",
    "# print(os.path.getsize(path+'/sub_m_m.csv'))\n"
   ],
   "metadata": {
    "collapsed": false,
    "ExecuteTime": {
     "end_time": "2024-01-18T13:02:41.850836Z",
     "start_time": "2024-01-18T13:02:41.793947900Z"
    }
   },
   "id": "2a5af6d3b83dd101"
  },
  {
   "cell_type": "code",
   "execution_count": 24,
   "outputs": [],
   "source": [
    "# for k in range(282):\n",
    "#     print(k)\n",
    "#     g = load_subk_hetero_graph(k)\n",
    "#     adjacency_matrix=torch.from_numpy(np.array(nx.adjacency_matrix(dgl.to_homogeneous(g).to_networkx().to_undirected()).todense(),dtype=float))\n",
    "#     sub0 = list(all_subgraphs.iloc[k,:])\n",
    "#     rna_num = [0,0,0]\n",
    "#     for node in sub0:\n",
    "#         type = num_rna[node][0]\n",
    "#         if type == \"lncrna\":\n",
    "#             rna_num[0] = rna_num[0] + 1\n",
    "#         elif type == \"mirna\":\n",
    "#             rna_num[1] = rna_num[1] + 1\n",
    "#         elif type == \"mrna\":\n",
    "#             rna_num[2] = rna_num[2] + 1\n",
    "#     print(rna_num)\n",
    "#     eval_net = RGCNDQNModel(32,1,1,['lnc_lnc', 'lnc_mi', 'm_lnc', 'mi_lnc', 'mi_m', 'mi_mi', 'lnc_m', 'm_m','m_mi'],\n",
    "#                              5,\n",
    "#                              2)\n",
    "#     f_lncrna = torch.zeros(rna_num[0], 1)\n",
    "#     f_mirna = torch.zeros(rna_num[1], 1) # 初始化每个节点的编码特征\n",
    "#     f_mrna = torch.zeros(rna_num[2], 1)\n",
    "#     h = {'lncrna': f_lncrna,'mirna': f_mirna, 'mrna': f_mrna}\n",
    "#     args = []\n",
    "#     res = eval_net.forward(args,g,rna_num,h)\n",
    "#     print(res.shape)"
   ],
   "metadata": {
    "collapsed": false,
    "ExecuteTime": {
     "end_time": "2024-01-18T13:02:41.850836Z",
     "start_time": "2024-01-18T13:02:41.819067400Z"
    }
   },
   "id": "34ad8164d8e3445c"
  },
  {
   "cell_type": "code",
   "execution_count": 25,
   "outputs": [],
   "source": [
    "# adjacency_matrix=torch.from_numpy(np.array(nx.adjacency_matrix(dgl.to_homogeneous(g).to_networkx().to_undirected()).todense(),dtype=float))"
   ],
   "metadata": {
    "collapsed": false,
    "ExecuteTime": {
     "end_time": "2024-01-18T13:02:41.888349800Z",
     "start_time": "2024-01-18T13:02:41.850836Z"
    }
   },
   "id": "1c0349bbc401096e"
  },
  {
   "cell_type": "code",
   "execution_count": 26,
   "outputs": [],
   "source": [
    "# print(len(adjacency_matrix))"
   ],
   "metadata": {
    "collapsed": false,
    "ExecuteTime": {
     "end_time": "2024-01-18T13:02:41.919102900Z",
     "start_time": "2024-01-18T13:02:41.886349900Z"
    }
   },
   "id": "32086b72d4110daa"
  },
  {
   "cell_type": "code",
   "execution_count": 27,
   "outputs": [],
   "source": [
    "# #需要确定每个子图三种RNA的数量，然后带入\n",
    "# k=2\n",
    "# sub0 = list(all_subgraphs.iloc[k,:])\n",
    "# rna_num = [0,0,0]\n",
    "# for node in sub0:\n",
    "#     type = num_rna[node][0]\n",
    "#     if type == \"lncrna\":\n",
    "#         rna_num[0] = rna_num[0] + 1\n",
    "#     elif type == \"mirna\":\n",
    "#         rna_num[1] = rna_num[1] + 1\n",
    "#     elif type == \"mrna\":\n",
    "#         rna_num[2] = rna_num[2] + 1\n",
    "# print(rna_num)"
   ],
   "metadata": {
    "collapsed": false,
    "ExecuteTime": {
     "end_time": "2024-01-18T13:02:41.959125Z",
     "start_time": "2024-01-18T13:02:41.919102900Z"
    }
   },
   "id": "d9b3da02bff3c60f"
  },
  {
   "cell_type": "code",
   "execution_count": 28,
   "outputs": [],
   "source": [
    "# eval_net = RGCNDQNModel(32,1,1,['lnc_lnc', 'lnc_mi', 'm_lnc', 'mi_lnc', 'mi_m', 'mi_mi', 'lnc_m', 'm_m','m_mi'],\n",
    "#                              5,\n",
    "#                              2)\n"
   ],
   "metadata": {
    "collapsed": false,
    "ExecuteTime": {
     "end_time": "2024-01-18T13:02:41.989123500Z",
     "start_time": "2024-01-18T13:02:41.954120Z"
    }
   },
   "id": "7bce0e4b054918cf"
  },
  {
   "cell_type": "code",
   "execution_count": 29,
   "outputs": [],
   "source": [
    "# f_lncrna = torch.zeros(rna_num[0], 1)\n",
    "# f_mirna = torch.zeros(rna_num[1], 1) # 初始化每个节点的编码特征\n",
    "# f_mrna = torch.zeros(rna_num[2], 1)\n",
    "# h = {'lncrna': f_lncrna,'mirna': f_mirna, 'mrna': f_mrna}\n",
    "# args = 0\n",
    "# res = eval_net.forward(args,g,h)"
   ],
   "metadata": {
    "collapsed": false,
    "ExecuteTime": {
     "end_time": "2024-01-18T13:02:42.020997600Z",
     "start_time": "2024-01-18T13:02:41.989123500Z"
    }
   },
   "id": "13085ed9ff2f4814"
  },
  {
   "cell_type": "code",
   "execution_count": 30,
   "outputs": [],
   "source": [
    "# print(res.shape)"
   ],
   "metadata": {
    "collapsed": false,
    "ExecuteTime": {
     "end_time": "2024-01-18T13:02:42.038745500Z",
     "start_time": "2024-01-18T13:02:42.020997600Z"
    }
   },
   "id": "993a134e66c2c2b0"
  },
  {
   "cell_type": "code",
   "execution_count": 31,
   "outputs": [],
   "source": [
    "# 再做一个对应关系，degree0 构建一个新图，节点是0-3164\n"
   ],
   "metadata": {
    "collapsed": false,
    "ExecuteTime": {
     "end_time": "2024-01-18T13:02:42.069144200Z",
     "start_time": "2024-01-18T13:02:42.038745500Z"
    }
   },
   "id": "d01236257f7a06a3"
  }
 ],
 "metadata": {
  "kernelspec": {
   "display_name": "Python 3",
   "language": "python",
   "name": "python3"
  },
  "language_info": {
   "codemirror_mode": {
    "name": "ipython",
    "version": 2
   },
   "file_extension": ".py",
   "mimetype": "text/x-python",
   "name": "python",
   "nbconvert_exporter": "python",
   "pygments_lexer": "ipython2",
   "version": "2.7.6"
  }
 },
 "nbformat": 4,
 "nbformat_minor": 5
}
